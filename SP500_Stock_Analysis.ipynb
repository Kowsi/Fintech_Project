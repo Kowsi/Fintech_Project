{
 "cells": [
  {
   "cell_type": "code",
   "execution_count": null,
   "metadata": {},
   "outputs": [],
   "source": []
  },
  {
   "cell_type": "markdown",
   "metadata": {},
   "source": [
    "# S&P 500 Sector & Stock Analysis"
   ]
  },
  {
   "cell_type": "code",
   "execution_count": 1,
   "metadata": {},
   "outputs": [
    {
     "name": "stderr",
     "output_type": "stream",
     "text": [
      "/Users/Kowsalya/opt/anaconda3/envs/dev/lib/python3.7/site-packages/pandas_datareader/compat/__init__.py:7: FutureWarning: pandas.util.testing is deprecated. Use the functions in the public API at pandas.testing instead.\n",
      "  from pandas.util.testing import assert_frame_equal\n"
     ]
    }
   ],
   "source": [
    "import pandas_datareader.data as web\n",
    "\n",
    "import pandas as pd\n",
    "import datetime \n",
    "from plotly.subplots import make_subplots\n",
    "import plotly.graph_objects as go\n",
    "import numpy as np\n",
    "import plotly.express as px"
   ]
  },
  {
   "cell_type": "code",
   "execution_count": 3,
   "metadata": {},
   "outputs": [
    {
     "data": {
      "text/html": [
       "<div>\n",
       "<style scoped>\n",
       "    .dataframe tbody tr th:only-of-type {\n",
       "        vertical-align: middle;\n",
       "    }\n",
       "\n",
       "    .dataframe tbody tr th {\n",
       "        vertical-align: top;\n",
       "    }\n",
       "\n",
       "    .dataframe thead th {\n",
       "        text-align: right;\n",
       "    }\n",
       "</style>\n",
       "<table border=\"1\" class=\"dataframe\">\n",
       "  <thead>\n",
       "    <tr style=\"text-align: right;\">\n",
       "      <th></th>\n",
       "      <th>RT</th>\n",
       "      <th>1D</th>\n",
       "      <th>5D</th>\n",
       "      <th>1M</th>\n",
       "      <th>3M</th>\n",
       "      <th>YTD</th>\n",
       "      <th>1Y</th>\n",
       "      <th>3Y</th>\n",
       "      <th>5Y</th>\n",
       "      <th>10Y</th>\n",
       "    </tr>\n",
       "  </thead>\n",
       "  <tbody>\n",
       "    <tr>\n",
       "      <th>Energy</th>\n",
       "      <td>4.34%</td>\n",
       "      <td>4.34%</td>\n",
       "      <td>8.25%</td>\n",
       "      <td>19.87%</td>\n",
       "      <td>-27.85%</td>\n",
       "      <td>-35.43%</td>\n",
       "      <td>-37.45%</td>\n",
       "      <td>-40.51%</td>\n",
       "      <td>-49.91%</td>\n",
       "      <td>-28.81%</td>\n",
       "    </tr>\n",
       "    <tr>\n",
       "      <th>Industrials</th>\n",
       "      <td>2.50%</td>\n",
       "      <td>2.50%</td>\n",
       "      <td>1.32%</td>\n",
       "      <td>4.92%</td>\n",
       "      <td>-24.40%</td>\n",
       "      <td>-22.46%</td>\n",
       "      <td>-16.76%</td>\n",
       "      <td>-7.16%</td>\n",
       "      <td>10.79%</td>\n",
       "      <td>103.60%</td>\n",
       "    </tr>\n",
       "    <tr>\n",
       "      <th>Materials</th>\n",
       "      <td>2.40%</td>\n",
       "      <td>2.40%</td>\n",
       "      <td>3.40%</td>\n",
       "      <td>11.90%</td>\n",
       "      <td>-12.44%</td>\n",
       "      <td>-14.39%</td>\n",
       "      <td>-3.84%</td>\n",
       "      <td>-1.54%</td>\n",
       "      <td>3.77%</td>\n",
       "      <td>75.73%</td>\n",
       "    </tr>\n",
       "    <tr>\n",
       "      <th>Consumer Staples</th>\n",
       "      <td>2.27%</td>\n",
       "      <td>2.27%</td>\n",
       "      <td>0.87%</td>\n",
       "      <td>1.94%</td>\n",
       "      <td>-9.75%</td>\n",
       "      <td>-7.94%</td>\n",
       "      <td>2.06%</td>\n",
       "      <td>5.04%</td>\n",
       "      <td>19.11%</td>\n",
       "      <td>116.40%</td>\n",
       "    </tr>\n",
       "    <tr>\n",
       "      <th>Financials</th>\n",
       "      <td>2.19%</td>\n",
       "      <td>2.19%</td>\n",
       "      <td>1.04%</td>\n",
       "      <td>4.54%</td>\n",
       "      <td>-27.88%</td>\n",
       "      <td>-27.73%</td>\n",
       "      <td>-18.70%</td>\n",
       "      <td>-6.54%</td>\n",
       "      <td>12.53%</td>\n",
       "      <td>81.93%</td>\n",
       "    </tr>\n",
       "    <tr>\n",
       "      <th>Utilities</th>\n",
       "      <td>2.01%</td>\n",
       "      <td>2.01%</td>\n",
       "      <td>0.53%</td>\n",
       "      <td>1.76%</td>\n",
       "      <td>-18.05%</td>\n",
       "      <td>-13.17%</td>\n",
       "      <td>-2.64%</td>\n",
       "      <td>8.67%</td>\n",
       "      <td>28.46%</td>\n",
       "      <td>93.36%</td>\n",
       "    </tr>\n",
       "    <tr>\n",
       "      <th>Real Estate</th>\n",
       "      <td>1.87%</td>\n",
       "      <td>1.87%</td>\n",
       "      <td>1.46%</td>\n",
       "      <td>5.90%</td>\n",
       "      <td>-16.56%</td>\n",
       "      <td>-13.96%</td>\n",
       "      <td>-6.03%</td>\n",
       "      <td>5.55%</td>\n",
       "      <td>NaN</td>\n",
       "      <td>NaN</td>\n",
       "    </tr>\n",
       "    <tr>\n",
       "      <th>Consumer Discretionary</th>\n",
       "      <td>1.66%</td>\n",
       "      <td>1.66%</td>\n",
       "      <td>4.43%</td>\n",
       "      <td>15.92%</td>\n",
       "      <td>-6.29%</td>\n",
       "      <td>-3.47%</td>\n",
       "      <td>1.89%</td>\n",
       "      <td>32.70%</td>\n",
       "      <td>58.44%</td>\n",
       "      <td>275.67%</td>\n",
       "    </tr>\n",
       "    <tr>\n",
       "      <th>Communication Services</th>\n",
       "      <td>1.57%</td>\n",
       "      <td>1.57%</td>\n",
       "      <td>3.71%</td>\n",
       "      <td>12.76%</td>\n",
       "      <td>-7.76%</td>\n",
       "      <td>-4.08%</td>\n",
       "      <td>5.68%</td>\n",
       "      <td>9.96%</td>\n",
       "      <td>11.76%</td>\n",
       "      <td>69.68%</td>\n",
       "    </tr>\n",
       "    <tr>\n",
       "      <th>Information Technology</th>\n",
       "      <td>1.40%</td>\n",
       "      <td>1.40%</td>\n",
       "      <td>6.64%</td>\n",
       "      <td>14.15%</td>\n",
       "      <td>-4.77%</td>\n",
       "      <td>3.37%</td>\n",
       "      <td>23.99%</td>\n",
       "      <td>76.99%</td>\n",
       "      <td>135.61%</td>\n",
       "      <td>370.04%</td>\n",
       "    </tr>\n",
       "    <tr>\n",
       "      <th>Health Care</th>\n",
       "      <td>0.54%</td>\n",
       "      <td>0.54%</td>\n",
       "      <td>1.72%</td>\n",
       "      <td>9.66%</td>\n",
       "      <td>-3.49%</td>\n",
       "      <td>-2.59%</td>\n",
       "      <td>12.52%</td>\n",
       "      <td>31.89%</td>\n",
       "      <td>38.62%</td>\n",
       "      <td>236.29%</td>\n",
       "    </tr>\n",
       "  </tbody>\n",
       "</table>\n",
       "</div>"
      ],
      "text/plain": [
       "                           RT     1D     5D      1M       3M      YTD  \\\n",
       "Energy                  4.34%  4.34%  8.25%  19.87%  -27.85%  -35.43%   \n",
       "Industrials             2.50%  2.50%  1.32%   4.92%  -24.40%  -22.46%   \n",
       "Materials               2.40%  2.40%  3.40%  11.90%  -12.44%  -14.39%   \n",
       "Consumer Staples        2.27%  2.27%  0.87%   1.94%   -9.75%   -7.94%   \n",
       "Financials              2.19%  2.19%  1.04%   4.54%  -27.88%  -27.73%   \n",
       "Utilities               2.01%  2.01%  0.53%   1.76%  -18.05%  -13.17%   \n",
       "Real Estate             1.87%  1.87%  1.46%   5.90%  -16.56%  -13.96%   \n",
       "Consumer Discretionary  1.66%  1.66%  4.43%  15.92%   -6.29%   -3.47%   \n",
       "Communication Services  1.57%  1.57%  3.71%  12.76%   -7.76%   -4.08%   \n",
       "Information Technology  1.40%  1.40%  6.64%  14.15%   -4.77%    3.37%   \n",
       "Health Care             0.54%  0.54%  1.72%   9.66%   -3.49%   -2.59%   \n",
       "\n",
       "                             1Y       3Y       5Y      10Y  \n",
       "Energy                  -37.45%  -40.51%  -49.91%  -28.81%  \n",
       "Industrials             -16.76%   -7.16%   10.79%  103.60%  \n",
       "Materials                -3.84%   -1.54%    3.77%   75.73%  \n",
       "Consumer Staples          2.06%    5.04%   19.11%  116.40%  \n",
       "Financials              -18.70%   -6.54%   12.53%   81.93%  \n",
       "Utilities                -2.64%    8.67%   28.46%   93.36%  \n",
       "Real Estate              -6.03%    5.55%      NaN      NaN  \n",
       "Consumer Discretionary    1.89%   32.70%   58.44%  275.67%  \n",
       "Communication Services    5.68%    9.96%   11.76%   69.68%  \n",
       "Information Technology   23.99%   76.99%  135.61%  370.04%  \n",
       "Health Care              12.52%   31.89%   38.62%  236.29%  "
      ]
     },
     "execution_count": 3,
     "metadata": {},
     "output_type": "execute_result"
    }
   ],
   "source": [
    "sector_df = web.get_sector_performance_av(api_key='ALPHAVANTAGE_API_KEY')\n",
    "sector_df"
   ]
  },
  {
   "cell_type": "code",
   "execution_count": 13,
   "metadata": {},
   "outputs": [],
   "source": [
    "for col in sector_df.columns:\n",
    "    sector_df[col] = sector_df[col].str.rstrip('%').astype('float')/100\n",
    "sector_df.fillna(0, inplace=True)"
   ]
  },
  {
   "cell_type": "code",
   "execution_count": 14,
   "metadata": {},
   "outputs": [],
   "source": [
    "sector_list = sector_df.index.values.tolist()\n",
    "sector_col = ['5D', '1M', '3M', 'YTD', '1Y']\n",
    "sector_bar = []\n",
    "for col in sector_col:\n",
    "    sector_bar.append(go.Bar(name=col, x=sector_list, y=sector_df[col].to_list()))\n",
    "    "
   ]
  },
  {
   "cell_type": "code",
   "execution_count": 15,
   "metadata": {},
   "outputs": [
    {
     "data": {
      "application/vnd.plotly.v1+json": {
       "config": {
        "plotlyServerURL": "https://plot.ly"
       },
       "data": [
        {
         "name": "5D",
         "type": "bar",
         "x": [
          "Energy",
          "Industrials",
          "Materials",
          "Consumer Staples",
          "Financials",
          "Utilities",
          "Real Estate",
          "Consumer Discretionary",
          "Communication Services",
          "Information Technology",
          "Health Care"
         ],
         "y": [
          0.0825,
          0.0132,
          0.034,
          0.0087,
          0.0104,
          0.0053,
          0.0146,
          0.0443,
          0.0371,
          0.0664,
          0.0172
         ]
        },
        {
         "name": "1M",
         "type": "bar",
         "x": [
          "Energy",
          "Industrials",
          "Materials",
          "Consumer Staples",
          "Financials",
          "Utilities",
          "Real Estate",
          "Consumer Discretionary",
          "Communication Services",
          "Information Technology",
          "Health Care"
         ],
         "y": [
          0.19870000000000002,
          0.0492,
          0.11900000000000001,
          0.0194,
          0.0454,
          0.0176,
          0.059000000000000004,
          0.1592,
          0.1276,
          0.14150000000000001,
          0.0966
         ]
        },
        {
         "name": "3M",
         "type": "bar",
         "x": [
          "Energy",
          "Industrials",
          "Materials",
          "Consumer Staples",
          "Financials",
          "Utilities",
          "Real Estate",
          "Consumer Discretionary",
          "Communication Services",
          "Information Technology",
          "Health Care"
         ],
         "y": [
          -0.2785,
          -0.244,
          -0.1244,
          -0.0975,
          -0.2788,
          -0.1805,
          -0.1656,
          -0.0629,
          -0.0776,
          -0.04769999999999999,
          -0.0349
         ]
        },
        {
         "name": "YTD",
         "type": "bar",
         "x": [
          "Energy",
          "Industrials",
          "Materials",
          "Consumer Staples",
          "Financials",
          "Utilities",
          "Real Estate",
          "Consumer Discretionary",
          "Communication Services",
          "Information Technology",
          "Health Care"
         ],
         "y": [
          -0.3543,
          -0.22460000000000002,
          -0.1439,
          -0.0794,
          -0.2773,
          -0.1317,
          -0.1396,
          -0.0347,
          -0.0408,
          0.0337,
          -0.0259
         ]
        },
        {
         "name": "1Y",
         "type": "bar",
         "x": [
          "Energy",
          "Industrials",
          "Materials",
          "Consumer Staples",
          "Financials",
          "Utilities",
          "Real Estate",
          "Consumer Discretionary",
          "Communication Services",
          "Information Technology",
          "Health Care"
         ],
         "y": [
          -0.37450000000000006,
          -0.16760000000000003,
          -0.0384,
          0.0206,
          -0.187,
          -0.0264,
          -0.0603,
          0.0189,
          0.056799999999999996,
          0.23989999999999997,
          0.1252
         ]
        }
       ],
       "layout": {
        "autosize": true,
        "bargap": 0.15,
        "bargroupgap": 0.1,
        "barmode": "group",
        "template": {
         "data": {
          "bar": [
           {
            "error_x": {
             "color": "#f2f5fa"
            },
            "error_y": {
             "color": "#f2f5fa"
            },
            "marker": {
             "line": {
              "color": "rgb(17,17,17)",
              "width": 0.5
             }
            },
            "type": "bar"
           }
          ],
          "barpolar": [
           {
            "marker": {
             "line": {
              "color": "rgb(17,17,17)",
              "width": 0.5
             }
            },
            "type": "barpolar"
           }
          ],
          "carpet": [
           {
            "aaxis": {
             "endlinecolor": "#A2B1C6",
             "gridcolor": "#506784",
             "linecolor": "#506784",
             "minorgridcolor": "#506784",
             "startlinecolor": "#A2B1C6"
            },
            "baxis": {
             "endlinecolor": "#A2B1C6",
             "gridcolor": "#506784",
             "linecolor": "#506784",
             "minorgridcolor": "#506784",
             "startlinecolor": "#A2B1C6"
            },
            "type": "carpet"
           }
          ],
          "choropleth": [
           {
            "colorbar": {
             "outlinewidth": 0,
             "ticks": ""
            },
            "type": "choropleth"
           }
          ],
          "contour": [
           {
            "colorbar": {
             "outlinewidth": 0,
             "ticks": ""
            },
            "colorscale": [
             [
              0,
              "#0d0887"
             ],
             [
              0.1111111111111111,
              "#46039f"
             ],
             [
              0.2222222222222222,
              "#7201a8"
             ],
             [
              0.3333333333333333,
              "#9c179e"
             ],
             [
              0.4444444444444444,
              "#bd3786"
             ],
             [
              0.5555555555555556,
              "#d8576b"
             ],
             [
              0.6666666666666666,
              "#ed7953"
             ],
             [
              0.7777777777777778,
              "#fb9f3a"
             ],
             [
              0.8888888888888888,
              "#fdca26"
             ],
             [
              1,
              "#f0f921"
             ]
            ],
            "type": "contour"
           }
          ],
          "contourcarpet": [
           {
            "colorbar": {
             "outlinewidth": 0,
             "ticks": ""
            },
            "type": "contourcarpet"
           }
          ],
          "heatmap": [
           {
            "colorbar": {
             "outlinewidth": 0,
             "ticks": ""
            },
            "colorscale": [
             [
              0,
              "#0d0887"
             ],
             [
              0.1111111111111111,
              "#46039f"
             ],
             [
              0.2222222222222222,
              "#7201a8"
             ],
             [
              0.3333333333333333,
              "#9c179e"
             ],
             [
              0.4444444444444444,
              "#bd3786"
             ],
             [
              0.5555555555555556,
              "#d8576b"
             ],
             [
              0.6666666666666666,
              "#ed7953"
             ],
             [
              0.7777777777777778,
              "#fb9f3a"
             ],
             [
              0.8888888888888888,
              "#fdca26"
             ],
             [
              1,
              "#f0f921"
             ]
            ],
            "type": "heatmap"
           }
          ],
          "heatmapgl": [
           {
            "colorbar": {
             "outlinewidth": 0,
             "ticks": ""
            },
            "colorscale": [
             [
              0,
              "#0d0887"
             ],
             [
              0.1111111111111111,
              "#46039f"
             ],
             [
              0.2222222222222222,
              "#7201a8"
             ],
             [
              0.3333333333333333,
              "#9c179e"
             ],
             [
              0.4444444444444444,
              "#bd3786"
             ],
             [
              0.5555555555555556,
              "#d8576b"
             ],
             [
              0.6666666666666666,
              "#ed7953"
             ],
             [
              0.7777777777777778,
              "#fb9f3a"
             ],
             [
              0.8888888888888888,
              "#fdca26"
             ],
             [
              1,
              "#f0f921"
             ]
            ],
            "type": "heatmapgl"
           }
          ],
          "histogram": [
           {
            "marker": {
             "colorbar": {
              "outlinewidth": 0,
              "ticks": ""
             }
            },
            "type": "histogram"
           }
          ],
          "histogram2d": [
           {
            "colorbar": {
             "outlinewidth": 0,
             "ticks": ""
            },
            "colorscale": [
             [
              0,
              "#0d0887"
             ],
             [
              0.1111111111111111,
              "#46039f"
             ],
             [
              0.2222222222222222,
              "#7201a8"
             ],
             [
              0.3333333333333333,
              "#9c179e"
             ],
             [
              0.4444444444444444,
              "#bd3786"
             ],
             [
              0.5555555555555556,
              "#d8576b"
             ],
             [
              0.6666666666666666,
              "#ed7953"
             ],
             [
              0.7777777777777778,
              "#fb9f3a"
             ],
             [
              0.8888888888888888,
              "#fdca26"
             ],
             [
              1,
              "#f0f921"
             ]
            ],
            "type": "histogram2d"
           }
          ],
          "histogram2dcontour": [
           {
            "colorbar": {
             "outlinewidth": 0,
             "ticks": ""
            },
            "colorscale": [
             [
              0,
              "#0d0887"
             ],
             [
              0.1111111111111111,
              "#46039f"
             ],
             [
              0.2222222222222222,
              "#7201a8"
             ],
             [
              0.3333333333333333,
              "#9c179e"
             ],
             [
              0.4444444444444444,
              "#bd3786"
             ],
             [
              0.5555555555555556,
              "#d8576b"
             ],
             [
              0.6666666666666666,
              "#ed7953"
             ],
             [
              0.7777777777777778,
              "#fb9f3a"
             ],
             [
              0.8888888888888888,
              "#fdca26"
             ],
             [
              1,
              "#f0f921"
             ]
            ],
            "type": "histogram2dcontour"
           }
          ],
          "mesh3d": [
           {
            "colorbar": {
             "outlinewidth": 0,
             "ticks": ""
            },
            "type": "mesh3d"
           }
          ],
          "parcoords": [
           {
            "line": {
             "colorbar": {
              "outlinewidth": 0,
              "ticks": ""
             }
            },
            "type": "parcoords"
           }
          ],
          "pie": [
           {
            "automargin": true,
            "type": "pie"
           }
          ],
          "scatter": [
           {
            "marker": {
             "line": {
              "color": "#283442"
             }
            },
            "type": "scatter"
           }
          ],
          "scatter3d": [
           {
            "line": {
             "colorbar": {
              "outlinewidth": 0,
              "ticks": ""
             }
            },
            "marker": {
             "colorbar": {
              "outlinewidth": 0,
              "ticks": ""
             }
            },
            "type": "scatter3d"
           }
          ],
          "scattercarpet": [
           {
            "marker": {
             "colorbar": {
              "outlinewidth": 0,
              "ticks": ""
             }
            },
            "type": "scattercarpet"
           }
          ],
          "scattergeo": [
           {
            "marker": {
             "colorbar": {
              "outlinewidth": 0,
              "ticks": ""
             }
            },
            "type": "scattergeo"
           }
          ],
          "scattergl": [
           {
            "marker": {
             "line": {
              "color": "#283442"
             }
            },
            "type": "scattergl"
           }
          ],
          "scattermapbox": [
           {
            "marker": {
             "colorbar": {
              "outlinewidth": 0,
              "ticks": ""
             }
            },
            "type": "scattermapbox"
           }
          ],
          "scatterpolar": [
           {
            "marker": {
             "colorbar": {
              "outlinewidth": 0,
              "ticks": ""
             }
            },
            "type": "scatterpolar"
           }
          ],
          "scatterpolargl": [
           {
            "marker": {
             "colorbar": {
              "outlinewidth": 0,
              "ticks": ""
             }
            },
            "type": "scatterpolargl"
           }
          ],
          "scatterternary": [
           {
            "marker": {
             "colorbar": {
              "outlinewidth": 0,
              "ticks": ""
             }
            },
            "type": "scatterternary"
           }
          ],
          "surface": [
           {
            "colorbar": {
             "outlinewidth": 0,
             "ticks": ""
            },
            "colorscale": [
             [
              0,
              "#0d0887"
             ],
             [
              0.1111111111111111,
              "#46039f"
             ],
             [
              0.2222222222222222,
              "#7201a8"
             ],
             [
              0.3333333333333333,
              "#9c179e"
             ],
             [
              0.4444444444444444,
              "#bd3786"
             ],
             [
              0.5555555555555556,
              "#d8576b"
             ],
             [
              0.6666666666666666,
              "#ed7953"
             ],
             [
              0.7777777777777778,
              "#fb9f3a"
             ],
             [
              0.8888888888888888,
              "#fdca26"
             ],
             [
              1,
              "#f0f921"
             ]
            ],
            "type": "surface"
           }
          ],
          "table": [
           {
            "cells": {
             "fill": {
              "color": "#506784"
             },
             "line": {
              "color": "rgb(17,17,17)"
             }
            },
            "header": {
             "fill": {
              "color": "#2a3f5f"
             },
             "line": {
              "color": "rgb(17,17,17)"
             }
            },
            "type": "table"
           }
          ]
         },
         "layout": {
          "annotationdefaults": {
           "arrowcolor": "#f2f5fa",
           "arrowhead": 0,
           "arrowwidth": 1
          },
          "coloraxis": {
           "colorbar": {
            "outlinewidth": 0,
            "ticks": ""
           }
          },
          "colorscale": {
           "diverging": [
            [
             0,
             "#8e0152"
            ],
            [
             0.1,
             "#c51b7d"
            ],
            [
             0.2,
             "#de77ae"
            ],
            [
             0.3,
             "#f1b6da"
            ],
            [
             0.4,
             "#fde0ef"
            ],
            [
             0.5,
             "#f7f7f7"
            ],
            [
             0.6,
             "#e6f5d0"
            ],
            [
             0.7,
             "#b8e186"
            ],
            [
             0.8,
             "#7fbc41"
            ],
            [
             0.9,
             "#4d9221"
            ],
            [
             1,
             "#276419"
            ]
           ],
           "sequential": [
            [
             0,
             "#0d0887"
            ],
            [
             0.1111111111111111,
             "#46039f"
            ],
            [
             0.2222222222222222,
             "#7201a8"
            ],
            [
             0.3333333333333333,
             "#9c179e"
            ],
            [
             0.4444444444444444,
             "#bd3786"
            ],
            [
             0.5555555555555556,
             "#d8576b"
            ],
            [
             0.6666666666666666,
             "#ed7953"
            ],
            [
             0.7777777777777778,
             "#fb9f3a"
            ],
            [
             0.8888888888888888,
             "#fdca26"
            ],
            [
             1,
             "#f0f921"
            ]
           ],
           "sequentialminus": [
            [
             0,
             "#0d0887"
            ],
            [
             0.1111111111111111,
             "#46039f"
            ],
            [
             0.2222222222222222,
             "#7201a8"
            ],
            [
             0.3333333333333333,
             "#9c179e"
            ],
            [
             0.4444444444444444,
             "#bd3786"
            ],
            [
             0.5555555555555556,
             "#d8576b"
            ],
            [
             0.6666666666666666,
             "#ed7953"
            ],
            [
             0.7777777777777778,
             "#fb9f3a"
            ],
            [
             0.8888888888888888,
             "#fdca26"
            ],
            [
             1,
             "#f0f921"
            ]
           ]
          },
          "colorway": [
           "#636efa",
           "#EF553B",
           "#00cc96",
           "#ab63fa",
           "#FFA15A",
           "#19d3f3",
           "#FF6692",
           "#B6E880",
           "#FF97FF",
           "#FECB52"
          ],
          "font": {
           "color": "#f2f5fa"
          },
          "geo": {
           "bgcolor": "rgb(17,17,17)",
           "lakecolor": "rgb(17,17,17)",
           "landcolor": "rgb(17,17,17)",
           "showlakes": true,
           "showland": true,
           "subunitcolor": "#506784"
          },
          "hoverlabel": {
           "align": "left"
          },
          "hovermode": "closest",
          "mapbox": {
           "style": "dark"
          },
          "paper_bgcolor": "rgb(17,17,17)",
          "plot_bgcolor": "rgb(17,17,17)",
          "polar": {
           "angularaxis": {
            "gridcolor": "#506784",
            "linecolor": "#506784",
            "ticks": ""
           },
           "bgcolor": "rgb(17,17,17)",
           "radialaxis": {
            "gridcolor": "#506784",
            "linecolor": "#506784",
            "ticks": ""
           }
          },
          "scene": {
           "xaxis": {
            "backgroundcolor": "rgb(17,17,17)",
            "gridcolor": "#506784",
            "gridwidth": 2,
            "linecolor": "#506784",
            "showbackground": true,
            "ticks": "",
            "zerolinecolor": "#C8D4E3"
           },
           "yaxis": {
            "backgroundcolor": "rgb(17,17,17)",
            "gridcolor": "#506784",
            "gridwidth": 2,
            "linecolor": "#506784",
            "showbackground": true,
            "ticks": "",
            "zerolinecolor": "#C8D4E3"
           },
           "zaxis": {
            "backgroundcolor": "rgb(17,17,17)",
            "gridcolor": "#506784",
            "gridwidth": 2,
            "linecolor": "#506784",
            "showbackground": true,
            "ticks": "",
            "zerolinecolor": "#C8D4E3"
           }
          },
          "shapedefaults": {
           "line": {
            "color": "#f2f5fa"
           }
          },
          "sliderdefaults": {
           "bgcolor": "#C8D4E3",
           "bordercolor": "rgb(17,17,17)",
           "borderwidth": 1,
           "tickwidth": 0
          },
          "ternary": {
           "aaxis": {
            "gridcolor": "#506784",
            "linecolor": "#506784",
            "ticks": ""
           },
           "baxis": {
            "gridcolor": "#506784",
            "linecolor": "#506784",
            "ticks": ""
           },
           "bgcolor": "rgb(17,17,17)",
           "caxis": {
            "gridcolor": "#506784",
            "linecolor": "#506784",
            "ticks": ""
           }
          },
          "title": {
           "x": 0.05
          },
          "updatemenudefaults": {
           "bgcolor": "#506784",
           "borderwidth": 0
          },
          "xaxis": {
           "automargin": true,
           "gridcolor": "#283442",
           "linecolor": "#506784",
           "ticks": "",
           "title": {
            "standoff": 15
           },
           "zerolinecolor": "#283442",
           "zerolinewidth": 2
          },
          "yaxis": {
           "automargin": true,
           "gridcolor": "#283442",
           "linecolor": "#506784",
           "ticks": "",
           "title": {
            "standoff": 15
           },
           "zerolinecolor": "#283442",
           "zerolinewidth": 2
          }
         }
        },
        "title": {
         "text": "Sector Performance Analysis"
        },
        "xaxis": {
         "autorange": true,
         "range": [
          -0.5,
          10.5
         ],
         "tickfont": {
          "size": 12
         },
         "type": "category"
        },
        "yaxis": {
         "autorange": true,
         "range": [
          -0.4086333333333334,
          0.2740333333333333
         ],
         "type": "linear"
        }
       }
      },
      "image/png": "[encoded data removed]",
      "text/html": [
       "<div>\n",
       "        \n",
       "        \n",
       "            <div id=\"6c5cbc26-1c5b-4085-88c2-493dd2b7a6f6\" class=\"plotly-graph-div\" style=\"height:525px; width:100%;\"></div>\n",
       "            <script type=\"text/javascript\">\n",
       "                require([\"plotly\"], function(Plotly) {\n",
       "                    window.PLOTLYENV=window.PLOTLYENV || {};\n",
       "                    \n",
       "                if (document.getElementById(\"6c5cbc26-1c5b-4085-88c2-493dd2b7a6f6\")) {\n",
       "                    Plotly.newPlot(\n",
       "                        '6c5cbc26-1c5b-4085-88c2-493dd2b7a6f6',\n",
       "                        [{\"name\": \"5D\", \"type\": \"bar\", \"x\": [\"Energy\", \"Industrials\", \"Materials\", \"Consumer Staples\", \"Financials\", \"Utilities\", \"Real Estate\", \"Consumer Discretionary\", \"Communication Services\", \"Information Technology\", \"Health Care\"], \"y\": [0.0825, 0.0132, 0.034, 0.0087, 0.0104, 0.0053, 0.0146, 0.0443, 0.0371, 0.0664, 0.0172]}, {\"name\": \"1M\", \"type\": \"bar\", \"x\": [\"Energy\", \"Industrials\", \"Materials\", \"Consumer Staples\", \"Financials\", \"Utilities\", \"Real Estate\", \"Consumer Discretionary\", \"Communication Services\", \"Information Technology\", \"Health Care\"], \"y\": [0.19870000000000002, 0.0492, 0.11900000000000001, 0.0194, 0.0454, 0.0176, 0.059000000000000004, 0.1592, 0.1276, 0.14150000000000001, 0.0966]}, {\"name\": \"3M\", \"type\": \"bar\", \"x\": [\"Energy\", \"Industrials\", \"Materials\", \"Consumer Staples\", \"Financials\", \"Utilities\", \"Real Estate\", \"Consumer Discretionary\", \"Communication Services\", \"Information Technology\", \"Health Care\"], \"y\": [-0.2785, -0.244, -0.1244, -0.0975, -0.2788, -0.1805, -0.1656, -0.0629, -0.0776, -0.04769999999999999, -0.0349]}, {\"name\": \"YTD\", \"type\": \"bar\", \"x\": [\"Energy\", \"Industrials\", \"Materials\", \"Consumer Staples\", \"Financials\", \"Utilities\", \"Real Estate\", \"Consumer Discretionary\", \"Communication Services\", \"Information Technology\", \"Health Care\"], \"y\": [-0.3543, -0.22460000000000002, -0.1439, -0.0794, -0.2773, -0.1317, -0.1396, -0.0347, -0.0408, 0.0337, -0.0259]}, {\"name\": \"1Y\", \"type\": \"bar\", \"x\": [\"Energy\", \"Industrials\", \"Materials\", \"Consumer Staples\", \"Financials\", \"Utilities\", \"Real Estate\", \"Consumer Discretionary\", \"Communication Services\", \"Information Technology\", \"Health Care\"], \"y\": [-0.37450000000000006, -0.16760000000000003, -0.0384, 0.0206, -0.187, -0.0264, -0.0603, 0.0189, 0.056799999999999996, 0.23989999999999997, 0.1252]}],\n",
       "                        {\"bargap\": 0.15, \"bargroupgap\": 0.1, \"barmode\": \"group\", \"template\": {\"data\": {\"bar\": [{\"error_x\": {\"color\": \"#f2f5fa\"}, \"error_y\": {\"color\": \"#f2f5fa\"}, \"marker\": {\"line\": {\"color\": \"rgb(17,17,17)\", \"width\": 0.5}}, \"type\": \"bar\"}], \"barpolar\": [{\"marker\": {\"line\": {\"color\": \"rgb(17,17,17)\", \"width\": 0.5}}, \"type\": \"barpolar\"}], \"carpet\": [{\"aaxis\": {\"endlinecolor\": \"#A2B1C6\", \"gridcolor\": \"#506784\", \"linecolor\": \"#506784\", \"minorgridcolor\": \"#506784\", \"startlinecolor\": \"#A2B1C6\"}, \"baxis\": {\"endlinecolor\": \"#A2B1C6\", \"gridcolor\": \"#506784\", \"linecolor\": \"#506784\", \"minorgridcolor\": \"#506784\", \"startlinecolor\": \"#A2B1C6\"}, \"type\": \"carpet\"}], \"choropleth\": [{\"colorbar\": {\"outlinewidth\": 0, \"ticks\": \"\"}, \"type\": \"choropleth\"}], \"contour\": [{\"colorbar\": {\"outlinewidth\": 0, \"ticks\": \"\"}, \"colorscale\": [[0.0, \"#0d0887\"], [0.1111111111111111, \"#46039f\"], [0.2222222222222222, \"#7201a8\"], [0.3333333333333333, \"#9c179e\"], [0.4444444444444444, \"#bd3786\"], [0.5555555555555556, \"#d8576b\"], [0.6666666666666666, \"#ed7953\"], [0.7777777777777778, \"#fb9f3a\"], [0.8888888888888888, \"#fdca26\"], [1.0, \"#f0f921\"]], \"type\": \"contour\"}], \"contourcarpet\": [{\"colorbar\": {\"outlinewidth\": 0, \"ticks\": \"\"}, \"type\": \"contourcarpet\"}], \"heatmap\": [{\"colorbar\": {\"outlinewidth\": 0, \"ticks\": \"\"}, \"colorscale\": [[0.0, \"#0d0887\"], [0.1111111111111111, \"#46039f\"], [0.2222222222222222, \"#7201a8\"], [0.3333333333333333, \"#9c179e\"], [0.4444444444444444, \"#bd3786\"], [0.5555555555555556, \"#d8576b\"], [0.6666666666666666, \"#ed7953\"], [0.7777777777777778, \"#fb9f3a\"], [0.8888888888888888, \"#fdca26\"], [1.0, \"#f0f921\"]], \"type\": \"heatmap\"}], \"heatmapgl\": [{\"colorbar\": {\"outlinewidth\": 0, \"ticks\": \"\"}, \"colorscale\": [[0.0, \"#0d0887\"], [0.1111111111111111, \"#46039f\"], [0.2222222222222222, \"#7201a8\"], [0.3333333333333333, \"#9c179e\"], [0.4444444444444444, \"#bd3786\"], [0.5555555555555556, \"#d8576b\"], [0.6666666666666666, \"#ed7953\"], [0.7777777777777778, \"#fb9f3a\"], [0.8888888888888888, \"#fdca26\"], [1.0, \"#f0f921\"]], \"type\": \"heatmapgl\"}], \"histogram\": [{\"marker\": {\"colorbar\": {\"outlinewidth\": 0, \"ticks\": \"\"}}, \"type\": \"histogram\"}], \"histogram2d\": [{\"colorbar\": {\"outlinewidth\": 0, \"ticks\": \"\"}, \"colorscale\": [[0.0, \"#0d0887\"], [0.1111111111111111, \"#46039f\"], [0.2222222222222222, \"#7201a8\"], [0.3333333333333333, \"#9c179e\"], [0.4444444444444444, \"#bd3786\"], [0.5555555555555556, \"#d8576b\"], [0.6666666666666666, \"#ed7953\"], [0.7777777777777778, \"#fb9f3a\"], [0.8888888888888888, \"#fdca26\"], [1.0, \"#f0f921\"]], \"type\": \"histogram2d\"}], \"histogram2dcontour\": [{\"colorbar\": {\"outlinewidth\": 0, \"ticks\": \"\"}, \"colorscale\": [[0.0, \"#0d0887\"], [0.1111111111111111, \"#46039f\"], [0.2222222222222222, \"#7201a8\"], [0.3333333333333333, \"#9c179e\"], [0.4444444444444444, \"#bd3786\"], [0.5555555555555556, \"#d8576b\"], [0.6666666666666666, \"#ed7953\"], [0.7777777777777778, \"#fb9f3a\"], [0.8888888888888888, \"#fdca26\"], [1.0, \"#f0f921\"]], \"type\": \"histogram2dcontour\"}], \"mesh3d\": [{\"colorbar\": {\"outlinewidth\": 0, \"ticks\": \"\"}, \"type\": \"mesh3d\"}], \"parcoords\": [{\"line\": {\"colorbar\": {\"outlinewidth\": 0, \"ticks\": \"\"}}, \"type\": \"parcoords\"}], \"pie\": [{\"automargin\": true, \"type\": \"pie\"}], \"scatter\": [{\"marker\": {\"line\": {\"color\": \"#283442\"}}, \"type\": \"scatter\"}], \"scatter3d\": [{\"line\": {\"colorbar\": {\"outlinewidth\": 0, \"ticks\": \"\"}}, \"marker\": {\"colorbar\": {\"outlinewidth\": 0, \"ticks\": \"\"}}, \"type\": \"scatter3d\"}], \"scattercarpet\": [{\"marker\": {\"colorbar\": {\"outlinewidth\": 0, \"ticks\": \"\"}}, \"type\": \"scattercarpet\"}], \"scattergeo\": [{\"marker\": {\"colorbar\": {\"outlinewidth\": 0, \"ticks\": \"\"}}, \"type\": \"scattergeo\"}], \"scattergl\": [{\"marker\": {\"line\": {\"color\": \"#283442\"}}, \"type\": \"scattergl\"}], \"scattermapbox\": [{\"marker\": {\"colorbar\": {\"outlinewidth\": 0, \"ticks\": \"\"}}, \"type\": \"scattermapbox\"}], \"scatterpolar\": [{\"marker\": {\"colorbar\": {\"outlinewidth\": 0, \"ticks\": \"\"}}, \"type\": \"scatterpolar\"}], \"scatterpolargl\": [{\"marker\": {\"colorbar\": {\"outlinewidth\": 0, \"ticks\": \"\"}}, \"type\": \"scatterpolargl\"}], \"scatterternary\": [{\"marker\": {\"colorbar\": {\"outlinewidth\": 0, \"ticks\": \"\"}}, \"type\": \"scatterternary\"}], \"surface\": [{\"colorbar\": {\"outlinewidth\": 0, \"ticks\": \"\"}, \"colorscale\": [[0.0, \"#0d0887\"], [0.1111111111111111, \"#46039f\"], [0.2222222222222222, \"#7201a8\"], [0.3333333333333333, \"#9c179e\"], [0.4444444444444444, \"#bd3786\"], [0.5555555555555556, \"#d8576b\"], [0.6666666666666666, \"#ed7953\"], [0.7777777777777778, \"#fb9f3a\"], [0.8888888888888888, \"#fdca26\"], [1.0, \"#f0f921\"]], \"type\": \"surface\"}], \"table\": [{\"cells\": {\"fill\": {\"color\": \"#506784\"}, \"line\": {\"color\": \"rgb(17,17,17)\"}}, \"header\": {\"fill\": {\"color\": \"#2a3f5f\"}, \"line\": {\"color\": \"rgb(17,17,17)\"}}, \"type\": \"table\"}]}, \"layout\": {\"annotationdefaults\": {\"arrowcolor\": \"#f2f5fa\", \"arrowhead\": 0, \"arrowwidth\": 1}, \"coloraxis\": {\"colorbar\": {\"outlinewidth\": 0, \"ticks\": \"\"}}, \"colorscale\": {\"diverging\": [[0, \"#8e0152\"], [0.1, \"#c51b7d\"], [0.2, \"#de77ae\"], [0.3, \"#f1b6da\"], [0.4, \"#fde0ef\"], [0.5, \"#f7f7f7\"], [0.6, \"#e6f5d0\"], [0.7, \"#b8e186\"], [0.8, \"#7fbc41\"], [0.9, \"#4d9221\"], [1, \"#276419\"]], \"sequential\": [[0.0, \"#0d0887\"], [0.1111111111111111, \"#46039f\"], [0.2222222222222222, \"#7201a8\"], [0.3333333333333333, \"#9c179e\"], [0.4444444444444444, \"#bd3786\"], [0.5555555555555556, \"#d8576b\"], [0.6666666666666666, \"#ed7953\"], [0.7777777777777778, \"#fb9f3a\"], [0.8888888888888888, \"#fdca26\"], [1.0, \"#f0f921\"]], \"sequentialminus\": [[0.0, \"#0d0887\"], [0.1111111111111111, \"#46039f\"], [0.2222222222222222, \"#7201a8\"], [0.3333333333333333, \"#9c179e\"], [0.4444444444444444, \"#bd3786\"], [0.5555555555555556, \"#d8576b\"], [0.6666666666666666, \"#ed7953\"], [0.7777777777777778, \"#fb9f3a\"], [0.8888888888888888, \"#fdca26\"], [1.0, \"#f0f921\"]]}, \"colorway\": [\"#636efa\", \"#EF553B\", \"#00cc96\", \"#ab63fa\", \"#FFA15A\", \"#19d3f3\", \"#FF6692\", \"#B6E880\", \"#FF97FF\", \"#FECB52\"], \"font\": {\"color\": \"#f2f5fa\"}, \"geo\": {\"bgcolor\": \"rgb(17,17,17)\", \"lakecolor\": \"rgb(17,17,17)\", \"landcolor\": \"rgb(17,17,17)\", \"showlakes\": true, \"showland\": true, \"subunitcolor\": \"#506784\"}, \"hoverlabel\": {\"align\": \"left\"}, \"hovermode\": \"closest\", \"mapbox\": {\"style\": \"dark\"}, \"paper_bgcolor\": \"rgb(17,17,17)\", \"plot_bgcolor\": \"rgb(17,17,17)\", \"polar\": {\"angularaxis\": {\"gridcolor\": \"#506784\", \"linecolor\": \"#506784\", \"ticks\": \"\"}, \"bgcolor\": \"rgb(17,17,17)\", \"radialaxis\": {\"gridcolor\": \"#506784\", \"linecolor\": \"#506784\", \"ticks\": \"\"}}, \"scene\": {\"xaxis\": {\"backgroundcolor\": \"rgb(17,17,17)\", \"gridcolor\": \"#506784\", \"gridwidth\": 2, \"linecolor\": \"#506784\", \"showbackground\": true, \"ticks\": \"\", \"zerolinecolor\": \"#C8D4E3\"}, \"yaxis\": {\"backgroundcolor\": \"rgb(17,17,17)\", \"gridcolor\": \"#506784\", \"gridwidth\": 2, \"linecolor\": \"#506784\", \"showbackground\": true, \"ticks\": \"\", \"zerolinecolor\": \"#C8D4E3\"}, \"zaxis\": {\"backgroundcolor\": \"rgb(17,17,17)\", \"gridcolor\": \"#506784\", \"gridwidth\": 2, \"linecolor\": \"#506784\", \"showbackground\": true, \"ticks\": \"\", \"zerolinecolor\": \"#C8D4E3\"}}, \"shapedefaults\": {\"line\": {\"color\": \"#f2f5fa\"}}, \"sliderdefaults\": {\"bgcolor\": \"#C8D4E3\", \"bordercolor\": \"rgb(17,17,17)\", \"borderwidth\": 1, \"tickwidth\": 0}, \"ternary\": {\"aaxis\": {\"gridcolor\": \"#506784\", \"linecolor\": \"#506784\", \"ticks\": \"\"}, \"baxis\": {\"gridcolor\": \"#506784\", \"linecolor\": \"#506784\", \"ticks\": \"\"}, \"bgcolor\": \"rgb(17,17,17)\", \"caxis\": {\"gridcolor\": \"#506784\", \"linecolor\": \"#506784\", \"ticks\": \"\"}}, \"title\": {\"x\": 0.05}, \"updatemenudefaults\": {\"bgcolor\": \"#506784\", \"borderwidth\": 0}, \"xaxis\": {\"automargin\": true, \"gridcolor\": \"#283442\", \"linecolor\": \"#506784\", \"ticks\": \"\", \"title\": {\"standoff\": 15}, \"zerolinecolor\": \"#283442\", \"zerolinewidth\": 2}, \"yaxis\": {\"automargin\": true, \"gridcolor\": \"#283442\", \"linecolor\": \"#506784\", \"ticks\": \"\", \"title\": {\"standoff\": 15}, \"zerolinecolor\": \"#283442\", \"zerolinewidth\": 2}}}, \"title\": {\"text\": \"Sector Performance Analysis\"}, \"xaxis\": {\"tickfont\": {\"size\": 12}}},\n",
       "                        {\"responsive\": true}\n",
       "                    ).then(function(){\n",
       "                            \n",
       "var gd = document.getElementById('6c5cbc26-1c5b-4085-88c2-493dd2b7a6f6');\n",
       "var x = new MutationObserver(function (mutations, observer) {{\n",
       "        var display = window.getComputedStyle(gd).display;\n",
       "        if (!display || display === 'none') {{\n",
       "            console.log([gd, 'removed!']);\n",
       "            Plotly.purge(gd);\n",
       "            observer.disconnect();\n",
       "        }}\n",
       "}});\n",
       "\n",
       "// Listen for the removal of the full notebook cells\n",
       "var notebookContainer = gd.closest('#notebook-container');\n",
       "if (notebookContainer) {{\n",
       "    x.observe(notebookContainer, {childList: true});\n",
       "}}\n",
       "\n",
       "// Listen for the clearing of the current output cell\n",
       "var outputEl = gd.closest('.output');\n",
       "if (outputEl) {{\n",
       "    x.observe(outputEl, {childList: true});\n",
       "}}\n",
       "\n",
       "                        })\n",
       "                };\n",
       "                });\n",
       "            </script>\n",
       "        </div>"
      ]
     },
     "metadata": {},
     "output_type": "display_data"
    }
   ],
   "source": [
    "fig = go.Figure(data=sector_bar)\n",
    "\n",
    "\n",
    "fig.update_layout(\n",
    "    title='Sector Performance Analysis',\n",
    "    template='plotly_dark',\n",
    "    xaxis_tickfont_size=12,\n",
    "    barmode='group',\n",
    "    bargap=0.15, # gap between bars of adjacent location coordinates.\n",
    "    bargroupgap=0.1 # gap between bars of the same location coordinate.\n",
    ")\n",
    "\n",
    "fig.show()"
   ]
  },
  {
   "cell_type": "markdown",
   "metadata": {},
   "source": [
    "# Sector Correlation"
   ]
  },
  {
   "cell_type": "code",
   "execution_count": 21,
   "metadata": {},
   "outputs": [],
   "source": [
    "corr_df= sector_df.swapaxes(\"index\", \"columns\").corr()"
   ]
  },
  {
   "cell_type": "code",
   "execution_count": 116,
   "metadata": {},
   "outputs": [
    {
     "data": {
      "application/vnd.plotly.v1+json": {
       "config": {
        "plotlyServerURL": "https://plot.ly"
       },
       "data": [
        {
         "colorscale": [
          [
           0,
           "rgb(150,0,90)"
          ],
          [
           0.125,
           "rgb(0,0,200)"
          ],
          [
           0.25,
           "rgb(0,25,255)"
          ],
          [
           0.375,
           "rgb(0,152,255)"
          ],
          [
           0.5,
           "rgb(44,255,150)"
          ],
          [
           0.625,
           "rgb(151,255,0)"
          ],
          [
           0.75,
           "rgb(255,234,0)"
          ],
          [
           0.875,
           "rgb(255,111,0)"
          ],
          [
           1,
           "rgb(255,0,0)"
          ]
         ],
         "name": "",
         "showscale": false,
         "type": "heatmap",
         "x": [
          "Energy",
          "Industrials",
          "Materials",
          "Consumer Staples",
          "Financials",
          "Utilities",
          "Real Estate",
          "Consumer Discretionary",
          "Communication Services",
          "Information Technology",
          "Health Care"
         ],
         "y": [
          "Energy",
          "Industrials",
          "Materials",
          "Consumer Staples",
          "Financials",
          "Utilities",
          "Real Estate",
          "Consumer Discretionary",
          "Communication Services",
          "Information Technology",
          "Health Care"
         ],
         "z": [
          [
           1,
           0.0005819815770143535,
           0.03730499461335648,
           -0.18695197791171433,
           0.0412678559590494,
           -0.20478623914364694,
           0.42628275935973536,
           -0.2392270142976941,
           -0.12965911008967954,
           -0.3671212216172104,
           -0.25324878498851644
          ],
          [
           0.0005819815770143535,
           1,
           0.9900615744584896,
           0.9766702744032921,
           0.9919148493898946,
           0.97294254113687,
           0.3642105251708323,
           0.9626900865560177,
           0.9700323473163358,
           0.9255424452388338,
           0.9520044115723332
          ],
          [
           0.03730499461335648,
           0.9900615744584896,
           1,
           0.9711550157898955,
           0.9758795677400738,
           0.9524407576238657,
           0.3600899822039338,
           0.9565125121261611,
           0.9806735901509408,
           0.9081752037702713,
           0.9528050152651852
          ],
          [
           -0.18695197791171433,
           0.9766702744032921,
           0.9711550157898955,
           1,
           0.9502818112182099,
           0.9807676012853148,
           0.22132303684231414,
           0.9942869657458987,
           0.9828017298823287,
           0.9720208005820918,
           0.9931061856380135
          ],
          [
           0.0412678559590494,
           0.9919148493898946,
           0.9758795677400738,
           0.9502818112182099,
           1,
           0.9687087450939762,
           0.46287019166494714,
           0.9341845608295226,
           0.9513350980292915,
           0.9051442060281165,
           0.9179456587171007
          ],
          [
           -0.20478623914364694,
           0.97294254113687,
           0.9524407576238657,
           0.9807676012853148,
           0.9687087450939762,
           1,
           0.3480844063689122,
           0.9776058808962044,
           0.9721931020145657,
           0.9787404482301574,
           0.9670492584876398
          ],
          [
           0.42628275935973536,
           0.3642105251708323,
           0.3600899822039338,
           0.22132303684231414,
           0.46287019166494714,
           0.3480844063689122,
           1,
           0.19907394613148377,
           0.32967327112981293,
           0.2044656012950421,
           0.17766916825389473
          ],
          [
           -0.2392270142976941,
           0.9626900865560177,
           0.9565125121261611,
           0.9942869657458987,
           0.9341845608295226,
           0.9776058808962044,
           0.19907394613148377,
           1,
           0.9804744277218976,
           0.9850915411926642,
           0.9970151723011591
          ],
          [
           -0.12965911008967954,
           0.9700323473163358,
           0.9806735901509408,
           0.9828017298823287,
           0.9513350980292915,
           0.9721931020145657,
           0.32967327112981293,
           0.9804744277218976,
           1,
           0.9566844778210026,
           0.9805256288963053
          ],
          [
           -0.3671212216172104,
           0.9255424452388338,
           0.9081752037702713,
           0.9720208005820918,
           0.9051442060281165,
           0.9787404482301574,
           0.2044656012950421,
           0.9850915411926642,
           0.9566844778210026,
           1,
           0.979150244560212
          ],
          [
           -0.25324878498851644,
           0.9520044115723332,
           0.9528050152651852,
           0.9931061856380135,
           0.9179456587171007,
           0.9670492584876398,
           0.17766916825389473,
           0.9970151723011591,
           0.9805256288963053,
           0.979150244560212,
           1
          ]
         ]
        }
       ],
       "layout": {
        "height": 700,
        "template": {
         "data": {
          "bar": [
           {
            "error_x": {
             "color": "#f2f5fa"
            },
            "error_y": {
             "color": "#f2f5fa"
            },
            "marker": {
             "line": {
              "color": "rgb(17,17,17)",
              "width": 0.5
             }
            },
            "type": "bar"
           }
          ],
          "barpolar": [
           {
            "marker": {
             "line": {
              "color": "rgb(17,17,17)",
              "width": 0.5
             }
            },
            "type": "barpolar"
           }
          ],
          "carpet": [
           {
            "aaxis": {
             "endlinecolor": "#A2B1C6",
             "gridcolor": "#506784",
             "linecolor": "#506784",
             "minorgridcolor": "#506784",
             "startlinecolor": "#A2B1C6"
            },
            "baxis": {
             "endlinecolor": "#A2B1C6",
             "gridcolor": "#506784",
             "linecolor": "#506784",
             "minorgridcolor": "#506784",
             "startlinecolor": "#A2B1C6"
            },
            "type": "carpet"
           }
          ],
          "choropleth": [
           {
            "colorbar": {
             "outlinewidth": 0,
             "ticks": ""
            },
            "type": "choropleth"
           }
          ],
          "contour": [
           {
            "colorbar": {
             "outlinewidth": 0,
             "ticks": ""
            },
            "colorscale": [
             [
              0,
              "#0d0887"
             ],
             [
              0.1111111111111111,
              "#46039f"
             ],
             [
              0.2222222222222222,
              "#7201a8"
             ],
             [
              0.3333333333333333,
              "#9c179e"
             ],
             [
              0.4444444444444444,
              "#bd3786"
             ],
             [
              0.5555555555555556,
              "#d8576b"
             ],
             [
              0.6666666666666666,
              "#ed7953"
             ],
             [
              0.7777777777777778,
              "#fb9f3a"
             ],
             [
              0.8888888888888888,
              "#fdca26"
             ],
             [
              1,
              "#f0f921"
             ]
            ],
            "type": "contour"
           }
          ],
          "contourcarpet": [
           {
            "colorbar": {
             "outlinewidth": 0,
             "ticks": ""
            },
            "type": "contourcarpet"
           }
          ],
          "heatmap": [
           {
            "colorbar": {
             "outlinewidth": 0,
             "ticks": ""
            },
            "colorscale": [
             [
              0,
              "#0d0887"
             ],
             [
              0.1111111111111111,
              "#46039f"
             ],
             [
              0.2222222222222222,
              "#7201a8"
             ],
             [
              0.3333333333333333,
              "#9c179e"
             ],
             [
              0.4444444444444444,
              "#bd3786"
             ],
             [
              0.5555555555555556,
              "#d8576b"
             ],
             [
              0.6666666666666666,
              "#ed7953"
             ],
             [
              0.7777777777777778,
              "#fb9f3a"
             ],
             [
              0.8888888888888888,
              "#fdca26"
             ],
             [
              1,
              "#f0f921"
             ]
            ],
            "type": "heatmap"
           }
          ],
          "heatmapgl": [
           {
            "colorbar": {
             "outlinewidth": 0,
             "ticks": ""
            },
            "colorscale": [
             [
              0,
              "#0d0887"
             ],
             [
              0.1111111111111111,
              "#46039f"
             ],
             [
              0.2222222222222222,
              "#7201a8"
             ],
             [
              0.3333333333333333,
              "#9c179e"
             ],
             [
              0.4444444444444444,
              "#bd3786"
             ],
             [
              0.5555555555555556,
              "#d8576b"
             ],
             [
              0.6666666666666666,
              "#ed7953"
             ],
             [
              0.7777777777777778,
              "#fb9f3a"
             ],
             [
              0.8888888888888888,
              "#fdca26"
             ],
             [
              1,
              "#f0f921"
             ]
            ],
            "type": "heatmapgl"
           }
          ],
          "histogram": [
           {
            "marker": {
             "colorbar": {
              "outlinewidth": 0,
              "ticks": ""
             }
            },
            "type": "histogram"
           }
          ],
          "histogram2d": [
           {
            "colorbar": {
             "outlinewidth": 0,
             "ticks": ""
            },
            "colorscale": [
             [
              0,
              "#0d0887"
             ],
             [
              0.1111111111111111,
              "#46039f"
             ],
             [
              0.2222222222222222,
              "#7201a8"
             ],
             [
              0.3333333333333333,
              "#9c179e"
             ],
             [
              0.4444444444444444,
              "#bd3786"
             ],
             [
              0.5555555555555556,
              "#d8576b"
             ],
             [
              0.6666666666666666,
              "#ed7953"
             ],
             [
              0.7777777777777778,
              "#fb9f3a"
             ],
             [
              0.8888888888888888,
              "#fdca26"
             ],
             [
              1,
              "#f0f921"
             ]
            ],
            "type": "histogram2d"
           }
          ],
          "histogram2dcontour": [
           {
            "colorbar": {
             "outlinewidth": 0,
             "ticks": ""
            },
            "colorscale": [
             [
              0,
              "#0d0887"
             ],
             [
              0.1111111111111111,
              "#46039f"
             ],
             [
              0.2222222222222222,
              "#7201a8"
             ],
             [
              0.3333333333333333,
              "#9c179e"
             ],
             [
              0.4444444444444444,
              "#bd3786"
             ],
             [
              0.5555555555555556,
              "#d8576b"
             ],
             [
              0.6666666666666666,
              "#ed7953"
             ],
             [
              0.7777777777777778,
              "#fb9f3a"
             ],
             [
              0.8888888888888888,
              "#fdca26"
             ],
             [
              1,
              "#f0f921"
             ]
            ],
            "type": "histogram2dcontour"
           }
          ],
          "mesh3d": [
           {
            "colorbar": {
             "outlinewidth": 0,
             "ticks": ""
            },
            "type": "mesh3d"
           }
          ],
          "parcoords": [
           {
            "line": {
             "colorbar": {
              "outlinewidth": 0,
              "ticks": ""
             }
            },
            "type": "parcoords"
           }
          ],
          "pie": [
           {
            "automargin": true,
            "type": "pie"
           }
          ],
          "scatter": [
           {
            "marker": {
             "line": {
              "color": "#283442"
             }
            },
            "type": "scatter"
           }
          ],
          "scatter3d": [
           {
            "line": {
             "colorbar": {
              "outlinewidth": 0,
              "ticks": ""
             }
            },
            "marker": {
             "colorbar": {
              "outlinewidth": 0,
              "ticks": ""
             }
            },
            "type": "scatter3d"
           }
          ],
          "scattercarpet": [
           {
            "marker": {
             "colorbar": {
              "outlinewidth": 0,
              "ticks": ""
             }
            },
            "type": "scattercarpet"
           }
          ],
          "scattergeo": [
           {
            "marker": {
             "colorbar": {
              "outlinewidth": 0,
              "ticks": ""
             }
            },
            "type": "scattergeo"
           }
          ],
          "scattergl": [
           {
            "marker": {
             "line": {
              "color": "#283442"
             }
            },
            "type": "scattergl"
           }
          ],
          "scattermapbox": [
           {
            "marker": {
             "colorbar": {
              "outlinewidth": 0,
              "ticks": ""
             }
            },
            "type": "scattermapbox"
           }
          ],
          "scatterpolar": [
           {
            "marker": {
             "colorbar": {
              "outlinewidth": 0,
              "ticks": ""
             }
            },
            "type": "scatterpolar"
           }
          ],
          "scatterpolargl": [
           {
            "marker": {
             "colorbar": {
              "outlinewidth": 0,
              "ticks": ""
             }
            },
            "type": "scatterpolargl"
           }
          ],
          "scatterternary": [
           {
            "marker": {
             "colorbar": {
              "outlinewidth": 0,
              "ticks": ""
             }
            },
            "type": "scatterternary"
           }
          ],
          "surface": [
           {
            "colorbar": {
             "outlinewidth": 0,
             "ticks": ""
            },
            "colorscale": [
             [
              0,
              "#0d0887"
             ],
             [
              0.1111111111111111,
              "#46039f"
             ],
             [
              0.2222222222222222,
              "#7201a8"
             ],
             [
              0.3333333333333333,
              "#9c179e"
             ],
             [
              0.4444444444444444,
              "#bd3786"
             ],
             [
              0.5555555555555556,
              "#d8576b"
             ],
             [
              0.6666666666666666,
              "#ed7953"
             ],
             [
              0.7777777777777778,
              "#fb9f3a"
             ],
             [
              0.8888888888888888,
              "#fdca26"
             ],
             [
              1,
              "#f0f921"
             ]
            ],
            "type": "surface"
           }
          ],
          "table": [
           {
            "cells": {
             "fill": {
              "color": "#506784"
             },
             "line": {
              "color": "rgb(17,17,17)"
             }
            },
            "header": {
             "fill": {
              "color": "#2a3f5f"
             },
             "line": {
              "color": "rgb(17,17,17)"
             }
            },
            "type": "table"
           }
          ]
         },
         "layout": {
          "annotationdefaults": {
           "arrowcolor": "#f2f5fa",
           "arrowhead": 0,
           "arrowwidth": 1
          },
          "coloraxis": {
           "colorbar": {
            "outlinewidth": 0,
            "ticks": ""
           }
          },
          "colorscale": {
           "diverging": [
            [
             0,
             "#8e0152"
            ],
            [
             0.1,
             "#c51b7d"
            ],
            [
             0.2,
             "#de77ae"
            ],
            [
             0.3,
             "#f1b6da"
            ],
            [
             0.4,
             "#fde0ef"
            ],
            [
             0.5,
             "#f7f7f7"
            ],
            [
             0.6,
             "#e6f5d0"
            ],
            [
             0.7,
             "#b8e186"
            ],
            [
             0.8,
             "#7fbc41"
            ],
            [
             0.9,
             "#4d9221"
            ],
            [
             1,
             "#276419"
            ]
           ],
           "sequential": [
            [
             0,
             "#0d0887"
            ],
            [
             0.1111111111111111,
             "#46039f"
            ],
            [
             0.2222222222222222,
             "#7201a8"
            ],
            [
             0.3333333333333333,
             "#9c179e"
            ],
            [
             0.4444444444444444,
             "#bd3786"
            ],
            [
             0.5555555555555556,
             "#d8576b"
            ],
            [
             0.6666666666666666,
             "#ed7953"
            ],
            [
             0.7777777777777778,
             "#fb9f3a"
            ],
            [
             0.8888888888888888,
             "#fdca26"
            ],
            [
             1,
             "#f0f921"
            ]
           ],
           "sequentialminus": [
            [
             0,
             "#0d0887"
            ],
            [
             0.1111111111111111,
             "#46039f"
            ],
            [
             0.2222222222222222,
             "#7201a8"
            ],
            [
             0.3333333333333333,
             "#9c179e"
            ],
            [
             0.4444444444444444,
             "#bd3786"
            ],
            [
             0.5555555555555556,
             "#d8576b"
            ],
            [
             0.6666666666666666,
             "#ed7953"
            ],
            [
             0.7777777777777778,
             "#fb9f3a"
            ],
            [
             0.8888888888888888,
             "#fdca26"
            ],
            [
             1,
             "#f0f921"
            ]
           ]
          },
          "colorway": [
           "#636efa",
           "#EF553B",
           "#00cc96",
           "#ab63fa",
           "#FFA15A",
           "#19d3f3",
           "#FF6692",
           "#B6E880",
           "#FF97FF",
           "#FECB52"
          ],
          "font": {
           "color": "#f2f5fa"
          },
          "geo": {
           "bgcolor": "rgb(17,17,17)",
           "lakecolor": "rgb(17,17,17)",
           "landcolor": "rgb(17,17,17)",
           "showlakes": true,
           "showland": true,
           "subunitcolor": "#506784"
          },
          "hoverlabel": {
           "align": "left"
          },
          "hovermode": "closest",
          "mapbox": {
           "style": "dark"
          },
          "paper_bgcolor": "rgb(17,17,17)",
          "plot_bgcolor": "rgb(17,17,17)",
          "polar": {
           "angularaxis": {
            "gridcolor": "#506784",
            "linecolor": "#506784",
            "ticks": ""
           },
           "bgcolor": "rgb(17,17,17)",
           "radialaxis": {
            "gridcolor": "#506784",
            "linecolor": "#506784",
            "ticks": ""
           }
          },
          "scene": {
           "xaxis": {
            "backgroundcolor": "rgb(17,17,17)",
            "gridcolor": "#506784",
            "gridwidth": 2,
            "linecolor": "#506784",
            "showbackground": true,
            "ticks": "",
            "zerolinecolor": "#C8D4E3"
           },
           "yaxis": {
            "backgroundcolor": "rgb(17,17,17)",
            "gridcolor": "#506784",
            "gridwidth": 2,
            "linecolor": "#506784",
            "showbackground": true,
            "ticks": "",
            "zerolinecolor": "#C8D4E3"
           },
           "zaxis": {
            "backgroundcolor": "rgb(17,17,17)",
            "gridcolor": "#506784",
            "gridwidth": 2,
            "linecolor": "#506784",
            "showbackground": true,
            "ticks": "",
            "zerolinecolor": "#C8D4E3"
           }
          },
          "shapedefaults": {
           "line": {
            "color": "#f2f5fa"
           }
          },
          "sliderdefaults": {
           "bgcolor": "#C8D4E3",
           "bordercolor": "rgb(17,17,17)",
           "borderwidth": 1,
           "tickwidth": 0
          },
          "ternary": {
           "aaxis": {
            "gridcolor": "#506784",
            "linecolor": "#506784",
            "ticks": ""
           },
           "baxis": {
            "gridcolor": "#506784",
            "linecolor": "#506784",
            "ticks": ""
           },
           "bgcolor": "rgb(17,17,17)",
           "caxis": {
            "gridcolor": "#506784",
            "linecolor": "#506784",
            "ticks": ""
           }
          },
          "title": {
           "x": 0.05
          },
          "updatemenudefaults": {
           "bgcolor": "#506784",
           "borderwidth": 0
          },
          "xaxis": {
           "automargin": true,
           "gridcolor": "#283442",
           "linecolor": "#506784",
           "ticks": "",
           "title": {
            "standoff": 15
           },
           "zerolinecolor": "#283442",
           "zerolinewidth": 2
          },
          "yaxis": {
           "automargin": true,
           "gridcolor": "#283442",
           "linecolor": "#506784",
           "ticks": "",
           "title": {
            "standoff": 15
           },
           "zerolinecolor": "#283442",
           "zerolinewidth": 2
          }
         }
        },
        "title": {
         "text": "Correlation Analysis - Sector"
        },
        "width": 1000,
        "xaxis": {
         "autorange": true,
         "range": [
          -0.5,
          10.5
         ],
         "type": "category"
        },
        "yaxis": {
         "autorange": true,
         "range": [
          -0.5,
          10.5
         ],
         "type": "category"
        }
       }
      },
      "image/png": "[encoded data removed]",
      "text/html": [
       "<div>\n",
       "        \n",
       "        \n",
       "            <div id=\"c4385439-4843-44a4-97a3-c9f6c05d6b29\" class=\"plotly-graph-div\" style=\"height:700px; width:1000px;\"></div>\n",
       "            <script type=\"text/javascript\">\n",
       "                require([\"plotly\"], function(Plotly) {\n",
       "                    window.PLOTLYENV=window.PLOTLYENV || {};\n",
       "                    \n",
       "                if (document.getElementById(\"c4385439-4843-44a4-97a3-c9f6c05d6b29\")) {\n",
       "                    Plotly.newPlot(\n",
       "                        'c4385439-4843-44a4-97a3-c9f6c05d6b29',\n",
       "                        [{\"colorscale\": [[0.0, \"rgb(150,0,90)\"], [0.125, \"rgb(0,0,200)\"], [0.25, \"rgb(0,25,255)\"], [0.375, \"rgb(0,152,255)\"], [0.5, \"rgb(44,255,150)\"], [0.625, \"rgb(151,255,0)\"], [0.75, \"rgb(255,234,0)\"], [0.875, \"rgb(255,111,0)\"], [1.0, \"rgb(255,0,0)\"]], \"name\": \"\", \"showscale\": false, \"type\": \"heatmap\", \"x\": [\"Energy\", \"Industrials\", \"Materials\", \"Consumer Staples\", \"Financials\", \"Utilities\", \"Real Estate\", \"Consumer Discretionary\", \"Communication Services\", \"Information Technology\", \"Health Care\"], \"y\": [\"Energy\", \"Industrials\", \"Materials\", \"Consumer Staples\", \"Financials\", \"Utilities\", \"Real Estate\", \"Consumer Discretionary\", \"Communication Services\", \"Information Technology\", \"Health Care\"], \"z\": [[1.0, 0.0005819815770143535, 0.03730499461335648, -0.18695197791171433, 0.0412678559590494, -0.20478623914364694, 0.42628275935973536, -0.2392270142976941, -0.12965911008967954, -0.3671212216172104, -0.25324878498851644], [0.0005819815770143535, 1.0, 0.9900615744584896, 0.9766702744032921, 0.9919148493898946, 0.97294254113687, 0.3642105251708323, 0.9626900865560177, 0.9700323473163358, 0.9255424452388338, 0.9520044115723332], [0.03730499461335648, 0.9900615744584896, 1.0, 0.9711550157898955, 0.9758795677400738, 0.9524407576238657, 0.3600899822039338, 0.9565125121261611, 0.9806735901509408, 0.9081752037702713, 0.9528050152651852], [-0.18695197791171433, 0.9766702744032921, 0.9711550157898955, 1.0, 0.9502818112182099, 0.9807676012853148, 0.22132303684231414, 0.9942869657458987, 0.9828017298823287, 0.9720208005820918, 0.9931061856380135], [0.0412678559590494, 0.9919148493898946, 0.9758795677400738, 0.9502818112182099, 1.0, 0.9687087450939762, 0.46287019166494714, 0.9341845608295226, 0.9513350980292915, 0.9051442060281165, 0.9179456587171007], [-0.20478623914364694, 0.97294254113687, 0.9524407576238657, 0.9807676012853148, 0.9687087450939762, 1.0, 0.3480844063689122, 0.9776058808962044, 0.9721931020145657, 0.9787404482301574, 0.9670492584876398], [0.42628275935973536, 0.3642105251708323, 0.3600899822039338, 0.22132303684231414, 0.46287019166494714, 0.3480844063689122, 1.0, 0.19907394613148377, 0.32967327112981293, 0.2044656012950421, 0.17766916825389473], [-0.2392270142976941, 0.9626900865560177, 0.9565125121261611, 0.9942869657458987, 0.9341845608295226, 0.9776058808962044, 0.19907394613148377, 1.0, 0.9804744277218976, 0.9850915411926642, 0.9970151723011591], [-0.12965911008967954, 0.9700323473163358, 0.9806735901509408, 0.9828017298823287, 0.9513350980292915, 0.9721931020145657, 0.32967327112981293, 0.9804744277218976, 1.0, 0.9566844778210026, 0.9805256288963053], [-0.3671212216172104, 0.9255424452388338, 0.9081752037702713, 0.9720208005820918, 0.9051442060281165, 0.9787404482301574, 0.2044656012950421, 0.9850915411926642, 0.9566844778210026, 1.0, 0.979150244560212], [-0.25324878498851644, 0.9520044115723332, 0.9528050152651852, 0.9931061856380135, 0.9179456587171007, 0.9670492584876398, 0.17766916825389473, 0.9970151723011591, 0.9805256288963053, 0.979150244560212, 1.0]]}],\n",
       "                        {\"height\": 700, \"template\": {\"data\": {\"bar\": [{\"error_x\": {\"color\": \"#f2f5fa\"}, \"error_y\": {\"color\": \"#f2f5fa\"}, \"marker\": {\"line\": {\"color\": \"rgb(17,17,17)\", \"width\": 0.5}}, \"type\": \"bar\"}], \"barpolar\": [{\"marker\": {\"line\": {\"color\": \"rgb(17,17,17)\", \"width\": 0.5}}, \"type\": \"barpolar\"}], \"carpet\": [{\"aaxis\": {\"endlinecolor\": \"#A2B1C6\", \"gridcolor\": \"#506784\", \"linecolor\": \"#506784\", \"minorgridcolor\": \"#506784\", \"startlinecolor\": \"#A2B1C6\"}, \"baxis\": {\"endlinecolor\": \"#A2B1C6\", \"gridcolor\": \"#506784\", \"linecolor\": \"#506784\", \"minorgridcolor\": \"#506784\", \"startlinecolor\": \"#A2B1C6\"}, \"type\": \"carpet\"}], \"choropleth\": [{\"colorbar\": {\"outlinewidth\": 0, \"ticks\": \"\"}, \"type\": \"choropleth\"}], \"contour\": [{\"colorbar\": {\"outlinewidth\": 0, \"ticks\": \"\"}, \"colorscale\": [[0.0, \"#0d0887\"], [0.1111111111111111, \"#46039f\"], [0.2222222222222222, \"#7201a8\"], [0.3333333333333333, \"#9c179e\"], [0.4444444444444444, \"#bd3786\"], [0.5555555555555556, \"#d8576b\"], [0.6666666666666666, \"#ed7953\"], [0.7777777777777778, \"#fb9f3a\"], [0.8888888888888888, \"#fdca26\"], [1.0, \"#f0f921\"]], \"type\": \"contour\"}], \"contourcarpet\": [{\"colorbar\": {\"outlinewidth\": 0, \"ticks\": \"\"}, \"type\": \"contourcarpet\"}], \"heatmap\": [{\"colorbar\": {\"outlinewidth\": 0, \"ticks\": \"\"}, \"colorscale\": [[0.0, \"#0d0887\"], [0.1111111111111111, \"#46039f\"], [0.2222222222222222, \"#7201a8\"], [0.3333333333333333, \"#9c179e\"], [0.4444444444444444, \"#bd3786\"], [0.5555555555555556, \"#d8576b\"], [0.6666666666666666, \"#ed7953\"], [0.7777777777777778, \"#fb9f3a\"], [0.8888888888888888, \"#fdca26\"], [1.0, \"#f0f921\"]], \"type\": \"heatmap\"}], \"heatmapgl\": [{\"colorbar\": {\"outlinewidth\": 0, \"ticks\": \"\"}, \"colorscale\": [[0.0, \"#0d0887\"], [0.1111111111111111, \"#46039f\"], [0.2222222222222222, \"#7201a8\"], [0.3333333333333333, \"#9c179e\"], [0.4444444444444444, \"#bd3786\"], [0.5555555555555556, \"#d8576b\"], [0.6666666666666666, \"#ed7953\"], [0.7777777777777778, \"#fb9f3a\"], [0.8888888888888888, \"#fdca26\"], [1.0, \"#f0f921\"]], \"type\": \"heatmapgl\"}], \"histogram\": [{\"marker\": {\"colorbar\": {\"outlinewidth\": 0, \"ticks\": \"\"}}, \"type\": \"histogram\"}], \"histogram2d\": [{\"colorbar\": {\"outlinewidth\": 0, \"ticks\": \"\"}, \"colorscale\": [[0.0, \"#0d0887\"], [0.1111111111111111, \"#46039f\"], [0.2222222222222222, \"#7201a8\"], [0.3333333333333333, \"#9c179e\"], [0.4444444444444444, \"#bd3786\"], [0.5555555555555556, \"#d8576b\"], [0.6666666666666666, \"#ed7953\"], [0.7777777777777778, \"#fb9f3a\"], [0.8888888888888888, \"#fdca26\"], [1.0, \"#f0f921\"]], \"type\": \"histogram2d\"}], \"histogram2dcontour\": [{\"colorbar\": {\"outlinewidth\": 0, \"ticks\": \"\"}, \"colorscale\": [[0.0, \"#0d0887\"], [0.1111111111111111, \"#46039f\"], [0.2222222222222222, \"#7201a8\"], [0.3333333333333333, \"#9c179e\"], [0.4444444444444444, \"#bd3786\"], [0.5555555555555556, \"#d8576b\"], [0.6666666666666666, \"#ed7953\"], [0.7777777777777778, \"#fb9f3a\"], [0.8888888888888888, \"#fdca26\"], [1.0, \"#f0f921\"]], \"type\": \"histogram2dcontour\"}], \"mesh3d\": [{\"colorbar\": {\"outlinewidth\": 0, \"ticks\": \"\"}, \"type\": \"mesh3d\"}], \"parcoords\": [{\"line\": {\"colorbar\": {\"outlinewidth\": 0, \"ticks\": \"\"}}, \"type\": \"parcoords\"}], \"pie\": [{\"automargin\": true, \"type\": \"pie\"}], \"scatter\": [{\"marker\": {\"line\": {\"color\": \"#283442\"}}, \"type\": \"scatter\"}], \"scatter3d\": [{\"line\": {\"colorbar\": {\"outlinewidth\": 0, \"ticks\": \"\"}}, \"marker\": {\"colorbar\": {\"outlinewidth\": 0, \"ticks\": \"\"}}, \"type\": \"scatter3d\"}], \"scattercarpet\": [{\"marker\": {\"colorbar\": {\"outlinewidth\": 0, \"ticks\": \"\"}}, \"type\": \"scattercarpet\"}], \"scattergeo\": [{\"marker\": {\"colorbar\": {\"outlinewidth\": 0, \"ticks\": \"\"}}, \"type\": \"scattergeo\"}], \"scattergl\": [{\"marker\": {\"line\": {\"color\": \"#283442\"}}, \"type\": \"scattergl\"}], \"scattermapbox\": [{\"marker\": {\"colorbar\": {\"outlinewidth\": 0, \"ticks\": \"\"}}, \"type\": \"scattermapbox\"}], \"scatterpolar\": [{\"marker\": {\"colorbar\": {\"outlinewidth\": 0, \"ticks\": \"\"}}, \"type\": \"scatterpolar\"}], \"scatterpolargl\": [{\"marker\": {\"colorbar\": {\"outlinewidth\": 0, \"ticks\": \"\"}}, \"type\": \"scatterpolargl\"}], \"scatterternary\": [{\"marker\": {\"colorbar\": {\"outlinewidth\": 0, \"ticks\": \"\"}}, \"type\": \"scatterternary\"}], \"surface\": [{\"colorbar\": {\"outlinewidth\": 0, \"ticks\": \"\"}, \"colorscale\": [[0.0, \"#0d0887\"], [0.1111111111111111, \"#46039f\"], [0.2222222222222222, \"#7201a8\"], [0.3333333333333333, \"#9c179e\"], [0.4444444444444444, \"#bd3786\"], [0.5555555555555556, \"#d8576b\"], [0.6666666666666666, \"#ed7953\"], [0.7777777777777778, \"#fb9f3a\"], [0.8888888888888888, \"#fdca26\"], [1.0, \"#f0f921\"]], \"type\": \"surface\"}], \"table\": [{\"cells\": {\"fill\": {\"color\": \"#506784\"}, \"line\": {\"color\": \"rgb(17,17,17)\"}}, \"header\": {\"fill\": {\"color\": \"#2a3f5f\"}, \"line\": {\"color\": \"rgb(17,17,17)\"}}, \"type\": \"table\"}]}, \"layout\": {\"annotationdefaults\": {\"arrowcolor\": \"#f2f5fa\", \"arrowhead\": 0, \"arrowwidth\": 1}, \"coloraxis\": {\"colorbar\": {\"outlinewidth\": 0, \"ticks\": \"\"}}, \"colorscale\": {\"diverging\": [[0, \"#8e0152\"], [0.1, \"#c51b7d\"], [0.2, \"#de77ae\"], [0.3, \"#f1b6da\"], [0.4, \"#fde0ef\"], [0.5, \"#f7f7f7\"], [0.6, \"#e6f5d0\"], [0.7, \"#b8e186\"], [0.8, \"#7fbc41\"], [0.9, \"#4d9221\"], [1, \"#276419\"]], \"sequential\": [[0.0, \"#0d0887\"], [0.1111111111111111, \"#46039f\"], [0.2222222222222222, \"#7201a8\"], [0.3333333333333333, \"#9c179e\"], [0.4444444444444444, \"#bd3786\"], [0.5555555555555556, \"#d8576b\"], [0.6666666666666666, \"#ed7953\"], [0.7777777777777778, \"#fb9f3a\"], [0.8888888888888888, \"#fdca26\"], [1.0, \"#f0f921\"]], \"sequentialminus\": [[0.0, \"#0d0887\"], [0.1111111111111111, \"#46039f\"], [0.2222222222222222, \"#7201a8\"], [0.3333333333333333, \"#9c179e\"], [0.4444444444444444, \"#bd3786\"], [0.5555555555555556, \"#d8576b\"], [0.6666666666666666, \"#ed7953\"], [0.7777777777777778, \"#fb9f3a\"], [0.8888888888888888, \"#fdca26\"], [1.0, \"#f0f921\"]]}, \"colorway\": [\"#636efa\", \"#EF553B\", \"#00cc96\", \"#ab63fa\", \"#FFA15A\", \"#19d3f3\", \"#FF6692\", \"#B6E880\", \"#FF97FF\", \"#FECB52\"], \"font\": {\"color\": \"#f2f5fa\"}, \"geo\": {\"bgcolor\": \"rgb(17,17,17)\", \"lakecolor\": \"rgb(17,17,17)\", \"landcolor\": \"rgb(17,17,17)\", \"showlakes\": true, \"showland\": true, \"subunitcolor\": \"#506784\"}, \"hoverlabel\": {\"align\": \"left\"}, \"hovermode\": \"closest\", \"mapbox\": {\"style\": \"dark\"}, \"paper_bgcolor\": \"rgb(17,17,17)\", \"plot_bgcolor\": \"rgb(17,17,17)\", \"polar\": {\"angularaxis\": {\"gridcolor\": \"#506784\", \"linecolor\": \"#506784\", \"ticks\": \"\"}, \"bgcolor\": \"rgb(17,17,17)\", \"radialaxis\": {\"gridcolor\": \"#506784\", \"linecolor\": \"#506784\", \"ticks\": \"\"}}, \"scene\": {\"xaxis\": {\"backgroundcolor\": \"rgb(17,17,17)\", \"gridcolor\": \"#506784\", \"gridwidth\": 2, \"linecolor\": \"#506784\", \"showbackground\": true, \"ticks\": \"\", \"zerolinecolor\": \"#C8D4E3\"}, \"yaxis\": {\"backgroundcolor\": \"rgb(17,17,17)\", \"gridcolor\": \"#506784\", \"gridwidth\": 2, \"linecolor\": \"#506784\", \"showbackground\": true, \"ticks\": \"\", \"zerolinecolor\": \"#C8D4E3\"}, \"zaxis\": {\"backgroundcolor\": \"rgb(17,17,17)\", \"gridcolor\": \"#506784\", \"gridwidth\": 2, \"linecolor\": \"#506784\", \"showbackground\": true, \"ticks\": \"\", \"zerolinecolor\": \"#C8D4E3\"}}, \"shapedefaults\": {\"line\": {\"color\": \"#f2f5fa\"}}, \"sliderdefaults\": {\"bgcolor\": \"#C8D4E3\", \"bordercolor\": \"rgb(17,17,17)\", \"borderwidth\": 1, \"tickwidth\": 0}, \"ternary\": {\"aaxis\": {\"gridcolor\": \"#506784\", \"linecolor\": \"#506784\", \"ticks\": \"\"}, \"baxis\": {\"gridcolor\": \"#506784\", \"linecolor\": \"#506784\", \"ticks\": \"\"}, \"bgcolor\": \"rgb(17,17,17)\", \"caxis\": {\"gridcolor\": \"#506784\", \"linecolor\": \"#506784\", \"ticks\": \"\"}}, \"title\": {\"x\": 0.05}, \"updatemenudefaults\": {\"bgcolor\": \"#506784\", \"borderwidth\": 0}, \"xaxis\": {\"automargin\": true, \"gridcolor\": \"#283442\", \"linecolor\": \"#506784\", \"ticks\": \"\", \"title\": {\"standoff\": 15}, \"zerolinecolor\": \"#283442\", \"zerolinewidth\": 2}, \"yaxis\": {\"automargin\": true, \"gridcolor\": \"#283442\", \"linecolor\": \"#506784\", \"ticks\": \"\", \"title\": {\"standoff\": 15}, \"zerolinecolor\": \"#283442\", \"zerolinewidth\": 2}}}, \"title\": {\"text\": \"Correlation Analysis - Sector\"}, \"width\": 1000},\n",
       "                        {\"responsive\": true}\n",
       "                    ).then(function(){\n",
       "                            \n",
       "var gd = document.getElementById('c4385439-4843-44a4-97a3-c9f6c05d6b29');\n",
       "var x = new MutationObserver(function (mutations, observer) {{\n",
       "        var display = window.getComputedStyle(gd).display;\n",
       "        if (!display || display === 'none') {{\n",
       "            console.log([gd, 'removed!']);\n",
       "            Plotly.purge(gd);\n",
       "            observer.disconnect();\n",
       "        }}\n",
       "}});\n",
       "\n",
       "// Listen for the removal of the full notebook cells\n",
       "var notebookContainer = gd.closest('#notebook-container');\n",
       "if (notebookContainer) {{\n",
       "    x.observe(notebookContainer, {childList: true});\n",
       "}}\n",
       "\n",
       "// Listen for the clearing of the current output cell\n",
       "var outputEl = gd.closest('.output');\n",
       "if (outputEl) {{\n",
       "    x.observe(outputEl, {childList: true});\n",
       "}}\n",
       "\n",
       "                        })\n",
       "                };\n",
       "                });\n",
       "            </script>\n",
       "        </div>"
      ]
     },
     "metadata": {},
     "output_type": "display_data"
    }
   ],
   "source": [
    "corr_df_heatmap = go.Heatmap(z=[corr_df[col].to_list() for col in corr_df.columns],type = 'heatmap', colorscale='Rainbow',  x = corr_df.index, y=corr_df.index, name='', showscale= False)\n",
    "layout = go.Layout(title='Correlation Analysis - Sector', width = 1000, height = 700) #, template='plotly_dark')\n",
    "\n",
    "fig = go.Figure()\n",
    "fig.add_traces(corr_df_heatmap)\n",
    "fig.update_layout(layout)\n",
    "fig.layout.template = 'plotly_dark'\n",
    "fig.show()\n",
    "\n",
    "#Greys,YlGnBu,Greens,YlOrRd,Bluered,RdBu,Reds,Blues,Picnic,Rainbow,Portland,Jet,Hot,Blackbody,Earth,Electric,Viridis,Cividis\n"
   ]
  },
  {
   "cell_type": "code",
   "execution_count": 22,
   "metadata": {},
   "outputs": [
    {
     "data": {
      "text/html": [
       "<div>\n",
       "<style scoped>\n",
       "    .dataframe tbody tr th:only-of-type {\n",
       "        vertical-align: middle;\n",
       "    }\n",
       "\n",
       "    .dataframe tbody tr th {\n",
       "        vertical-align: top;\n",
       "    }\n",
       "\n",
       "    .dataframe thead th {\n",
       "        text-align: right;\n",
       "    }\n",
       "</style>\n",
       "<table border=\"1\" class=\"dataframe\">\n",
       "  <thead>\n",
       "    <tr style=\"text-align: right;\">\n",
       "      <th></th>\n",
       "      <th>Sector</th>\n",
       "      <th>Sub Industry</th>\n",
       "      <th>Name</th>\n",
       "      <th>Price</th>\n",
       "      <th>Dividend Yield</th>\n",
       "      <th>Market Cap ($M)</th>\n",
       "      <th>Forward P/E Ratio</th>\n",
       "      <th>Payout Ratio</th>\n",
       "      <th>Beta</th>\n",
       "    </tr>\n",
       "    <tr>\n",
       "      <th>Ticker</th>\n",
       "      <th></th>\n",
       "      <th></th>\n",
       "      <th></th>\n",
       "      <th></th>\n",
       "      <th></th>\n",
       "      <th></th>\n",
       "      <th></th>\n",
       "      <th></th>\n",
       "      <th></th>\n",
       "    </tr>\n",
       "  </thead>\n",
       "  <tbody>\n",
       "    <tr>\n",
       "      <th>A</th>\n",
       "      <td>Health Care</td>\n",
       "      <td>Health Care Equipment</td>\n",
       "      <td>Agilent Technologies, Inc.</td>\n",
       "      <td>74.56</td>\n",
       "      <td>0.009055</td>\n",
       "      <td>2.297920e+04</td>\n",
       "      <td>30.44</td>\n",
       "      <td>0.274331</td>\n",
       "      <td>0.960773</td>\n",
       "    </tr>\n",
       "    <tr>\n",
       "      <th>AAL</th>\n",
       "      <td>Industrials</td>\n",
       "      <td>Airlines</td>\n",
       "      <td>American Airlines Group, Inc.</td>\n",
       "      <td>9.81</td>\n",
       "      <td>0.037594</td>\n",
       "      <td>4.499603e+03</td>\n",
       "      <td>-5.28</td>\n",
       "      <td>-0.215088</td>\n",
       "      <td>1.298470</td>\n",
       "    </tr>\n",
       "    <tr>\n",
       "      <th>AAP</th>\n",
       "      <td>Consumer Discretionary</td>\n",
       "      <td>Automotive Retail</td>\n",
       "      <td>Advance Auto Parts, Inc.</td>\n",
       "      <td>120.11</td>\n",
       "      <td>0.002058</td>\n",
       "      <td>8.055087e+03</td>\n",
       "      <td>17.49</td>\n",
       "      <td>0.034951</td>\n",
       "      <td>0.997614</td>\n",
       "    </tr>\n",
       "    <tr>\n",
       "      <th>AAPL</th>\n",
       "      <td>Information Technology</td>\n",
       "      <td>Technology Hardware, Storage &amp; Peripherals</td>\n",
       "      <td>Apple, Inc.</td>\n",
       "      <td>293.54</td>\n",
       "      <td>0.010655</td>\n",
       "      <td>1.264820e+06</td>\n",
       "      <td>22.79</td>\n",
       "      <td>0.239474</td>\n",
       "      <td>1.160621</td>\n",
       "    </tr>\n",
       "    <tr>\n",
       "      <th>ABBV</th>\n",
       "      <td>Health Care</td>\n",
       "      <td>Pharmaceuticals</td>\n",
       "      <td>AbbVie, Inc.</td>\n",
       "      <td>81.86</td>\n",
       "      <td>0.054322</td>\n",
       "      <td>1.223273e+05</td>\n",
       "      <td>NaN</td>\n",
       "      <td>NaN</td>\n",
       "      <td>0.790977</td>\n",
       "    </tr>\n",
       "  </tbody>\n",
       "</table>\n",
       "</div>"
      ],
      "text/plain": [
       "                        Sector                                Sub Industry  \\\n",
       "Ticker                                                                       \n",
       "A                  Health Care                       Health Care Equipment   \n",
       "AAL                Industrials                                    Airlines   \n",
       "AAP     Consumer Discretionary                           Automotive Retail   \n",
       "AAPL    Information Technology  Technology Hardware, Storage & Peripherals   \n",
       "ABBV               Health Care                             Pharmaceuticals   \n",
       "\n",
       "                                 Name   Price  Dividend Yield  \\\n",
       "Ticker                                                          \n",
       "A          Agilent Technologies, Inc.   74.56        0.009055   \n",
       "AAL     American Airlines Group, Inc.    9.81        0.037594   \n",
       "AAP          Advance Auto Parts, Inc.  120.11        0.002058   \n",
       "AAPL                      Apple, Inc.  293.54        0.010655   \n",
       "ABBV                     AbbVie, Inc.   81.86        0.054322   \n",
       "\n",
       "        Market Cap ($M)  Forward P/E Ratio  Payout Ratio      Beta  \n",
       "Ticker                                                              \n",
       "A          2.297920e+04              30.44      0.274331  0.960773  \n",
       "AAL        4.499603e+03              -5.28     -0.215088  1.298470  \n",
       "AAP        8.055087e+03              17.49      0.034951  0.997614  \n",
       "AAPL       1.264820e+06              22.79      0.239474  1.160621  \n",
       "ABBV       1.223273e+05                NaN           NaN  0.790977  "
      ]
     },
     "execution_count": 22,
     "metadata": {},
     "output_type": "execute_result"
    }
   ],
   "source": []
  },
  {
   "cell_type": "code",
   "execution_count": 23,
   "metadata": {},
   "outputs": [
    {
     "data": {
      "text/html": [
       "<div>\n",
       "<style scoped>\n",
       "    .dataframe tbody tr th:only-of-type {\n",
       "        vertical-align: middle;\n",
       "    }\n",
       "\n",
       "    .dataframe tbody tr th {\n",
       "        vertical-align: top;\n",
       "    }\n",
       "\n",
       "    .dataframe thead th {\n",
       "        text-align: right;\n",
       "    }\n",
       "</style>\n",
       "<table border=\"1\" class=\"dataframe\">\n",
       "  <thead>\n",
       "    <tr style=\"text-align: right;\">\n",
       "      <th></th>\n",
       "      <th>Sector</th>\n",
       "      <th>Count</th>\n",
       "    </tr>\n",
       "  </thead>\n",
       "  <tbody>\n",
       "    <tr>\n",
       "      <th>0</th>\n",
       "      <td>Communication Services</td>\n",
       "      <td>26</td>\n",
       "    </tr>\n",
       "    <tr>\n",
       "      <th>3</th>\n",
       "      <td>Energy</td>\n",
       "      <td>27</td>\n",
       "    </tr>\n",
       "    <tr>\n",
       "      <th>8</th>\n",
       "      <td>Materials</td>\n",
       "      <td>28</td>\n",
       "    </tr>\n",
       "    <tr>\n",
       "      <th>10</th>\n",
       "      <td>Utilities</td>\n",
       "      <td>28</td>\n",
       "    </tr>\n",
       "    <tr>\n",
       "      <th>9</th>\n",
       "      <td>Real Estate</td>\n",
       "      <td>31</td>\n",
       "    </tr>\n",
       "    <tr>\n",
       "      <th>2</th>\n",
       "      <td>Consumer Staples</td>\n",
       "      <td>33</td>\n",
       "    </tr>\n",
       "    <tr>\n",
       "      <th>5</th>\n",
       "      <td>Health Care</td>\n",
       "      <td>60</td>\n",
       "    </tr>\n",
       "    <tr>\n",
       "      <th>1</th>\n",
       "      <td>Consumer Discretionary</td>\n",
       "      <td>63</td>\n",
       "    </tr>\n",
       "    <tr>\n",
       "      <th>4</th>\n",
       "      <td>Financials</td>\n",
       "      <td>66</td>\n",
       "    </tr>\n",
       "    <tr>\n",
       "      <th>7</th>\n",
       "      <td>Information Technology</td>\n",
       "      <td>71</td>\n",
       "    </tr>\n",
       "    <tr>\n",
       "      <th>6</th>\n",
       "      <td>Industrials</td>\n",
       "      <td>74</td>\n",
       "    </tr>\n",
       "  </tbody>\n",
       "</table>\n",
       "</div>"
      ],
      "text/plain": [
       "                    Sector  Count\n",
       "0   Communication Services     26\n",
       "3                   Energy     27\n",
       "8                Materials     28\n",
       "10               Utilities     28\n",
       "9              Real Estate     31\n",
       "2         Consumer Staples     33\n",
       "5              Health Care     60\n",
       "1   Consumer Discretionary     63\n",
       "4               Financials     66\n",
       "7   Information Technology     71\n",
       "6              Industrials     74"
      ]
     },
     "execution_count": 23,
     "metadata": {},
     "output_type": "execute_result"
    }
   ],
   "source": [
    "sector_count = sp.groupby(['Sector'])['Name'].count().to_frame('Count').reset_index().sort_values('Count')\n",
    "sector_count"
   ]
  },
  {
   "cell_type": "code",
   "execution_count": 29,
   "metadata": {},
   "outputs": [],
   "source": [
    "sector_count_bar = go.Bar(x=sector_count['Sector'], y=sector_count['Count'],text=sector_count['Count'],textposition='auto', marker_color='crimson')"
   ]
  },
  {
   "cell_type": "code",
   "execution_count": 117,
   "metadata": {},
   "outputs": [
    {
     "data": {
      "application/vnd.plotly.v1+json": {
       "config": {
        "plotlyServerURL": "https://plot.ly"
       },
       "data": [
        {
         "name": "5D",
         "type": "bar",
         "x": [
          "Energy",
          "Industrials",
          "Materials",
          "Consumer Staples",
          "Financials",
          "Utilities",
          "Real Estate",
          "Consumer Discretionary",
          "Communication Services",
          "Information Technology",
          "Health Care"
         ],
         "xaxis": "x",
         "y": [
          0.0825,
          0.0132,
          0.034,
          0.0087,
          0.0104,
          0.0053,
          0.0146,
          0.0443,
          0.0371,
          0.0664,
          0.0172
         ],
         "yaxis": "y"
        },
        {
         "name": "1M",
         "type": "bar",
         "x": [
          "Energy",
          "Industrials",
          "Materials",
          "Consumer Staples",
          "Financials",
          "Utilities",
          "Real Estate",
          "Consumer Discretionary",
          "Communication Services",
          "Information Technology",
          "Health Care"
         ],
         "xaxis": "x",
         "y": [
          0.19870000000000002,
          0.0492,
          0.11900000000000001,
          0.0194,
          0.0454,
          0.0176,
          0.059000000000000004,
          0.1592,
          0.1276,
          0.14150000000000001,
          0.0966
         ],
         "yaxis": "y"
        },
        {
         "name": "3M",
         "type": "bar",
         "x": [
          "Energy",
          "Industrials",
          "Materials",
          "Consumer Staples",
          "Financials",
          "Utilities",
          "Real Estate",
          "Consumer Discretionary",
          "Communication Services",
          "Information Technology",
          "Health Care"
         ],
         "xaxis": "x",
         "y": [
          -0.2785,
          -0.244,
          -0.1244,
          -0.0975,
          -0.2788,
          -0.1805,
          -0.1656,
          -0.0629,
          -0.0776,
          -0.04769999999999999,
          -0.0349
         ],
         "yaxis": "y"
        },
        {
         "name": "YTD",
         "type": "bar",
         "x": [
          "Energy",
          "Industrials",
          "Materials",
          "Consumer Staples",
          "Financials",
          "Utilities",
          "Real Estate",
          "Consumer Discretionary",
          "Communication Services",
          "Information Technology",
          "Health Care"
         ],
         "xaxis": "x",
         "y": [
          -0.3543,
          -0.22460000000000002,
          -0.1439,
          -0.0794,
          -0.2773,
          -0.1317,
          -0.1396,
          -0.0347,
          -0.0408,
          0.0337,
          -0.0259
         ],
         "yaxis": "y"
        },
        {
         "name": "1Y",
         "type": "bar",
         "x": [
          "Energy",
          "Industrials",
          "Materials",
          "Consumer Staples",
          "Financials",
          "Utilities",
          "Real Estate",
          "Consumer Discretionary",
          "Communication Services",
          "Information Technology",
          "Health Care"
         ],
         "xaxis": "x",
         "y": [
          -0.37450000000000006,
          -0.16760000000000003,
          -0.0384,
          0.0206,
          -0.187,
          -0.0264,
          -0.0603,
          0.0189,
          0.056799999999999996,
          0.23989999999999997,
          0.1252
         ],
         "yaxis": "y"
        },
        {
         "colorscale": [
          [
           0,
           "rgb(150,0,90)"
          ],
          [
           0.125,
           "rgb(0,0,200)"
          ],
          [
           0.25,
           "rgb(0,25,255)"
          ],
          [
           0.375,
           "rgb(0,152,255)"
          ],
          [
           0.5,
           "rgb(44,255,150)"
          ],
          [
           0.625,
           "rgb(151,255,0)"
          ],
          [
           0.75,
           "rgb(255,234,0)"
          ],
          [
           0.875,
           "rgb(255,111,0)"
          ],
          [
           1,
           "rgb(255,0,0)"
          ]
         ],
         "name": "",
         "showscale": false,
         "type": "heatmap",
         "x": [
          "Energy",
          "Industrials",
          "Materials",
          "Consumer Staples",
          "Financials",
          "Utilities",
          "Real Estate",
          "Consumer Discretionary",
          "Communication Services",
          "Information Technology",
          "Health Care"
         ],
         "xaxis": "x3",
         "y": [
          "Energy",
          "Industrials",
          "Materials",
          "Consumer Staples",
          "Financials",
          "Utilities",
          "Real Estate",
          "Consumer Discretionary",
          "Communication Services",
          "Information Technology",
          "Health Care"
         ],
         "yaxis": "y3",
         "z": [
          [
           1,
           0.0005819815770143535,
           0.03730499461335648,
           -0.18695197791171433,
           0.0412678559590494,
           -0.20478623914364694,
           0.42628275935973536,
           -0.2392270142976941,
           -0.12965911008967954,
           -0.3671212216172104,
           -0.25324878498851644
          ],
          [
           0.0005819815770143535,
           1,
           0.9900615744584896,
           0.9766702744032921,
           0.9919148493898946,
           0.97294254113687,
           0.3642105251708323,
           0.9626900865560177,
           0.9700323473163358,
           0.9255424452388338,
           0.9520044115723332
          ],
          [
           0.03730499461335648,
           0.9900615744584896,
           1,
           0.9711550157898955,
           0.9758795677400738,
           0.9524407576238657,
           0.3600899822039338,
           0.9565125121261611,
           0.9806735901509408,
           0.9081752037702713,
           0.9528050152651852
          ],
          [
           -0.18695197791171433,
           0.9766702744032921,
           0.9711550157898955,
           1,
           0.9502818112182099,
           0.9807676012853148,
           0.22132303684231414,
           0.9942869657458987,
           0.9828017298823287,
           0.9720208005820918,
           0.9931061856380135
          ],
          [
           0.0412678559590494,
           0.9919148493898946,
           0.9758795677400738,
           0.9502818112182099,
           1,
           0.9687087450939762,
           0.46287019166494714,
           0.9341845608295226,
           0.9513350980292915,
           0.9051442060281165,
           0.9179456587171007
          ],
          [
           -0.20478623914364694,
           0.97294254113687,
           0.9524407576238657,
           0.9807676012853148,
           0.9687087450939762,
           1,
           0.3480844063689122,
           0.9776058808962044,
           0.9721931020145657,
           0.9787404482301574,
           0.9670492584876398
          ],
          [
           0.42628275935973536,
           0.3642105251708323,
           0.3600899822039338,
           0.22132303684231414,
           0.46287019166494714,
           0.3480844063689122,
           1,
           0.19907394613148377,
           0.32967327112981293,
           0.2044656012950421,
           0.17766916825389473
          ],
          [
           -0.2392270142976941,
           0.9626900865560177,
           0.9565125121261611,
           0.9942869657458987,
           0.9341845608295226,
           0.9776058808962044,
           0.19907394613148377,
           1,
           0.9804744277218976,
           0.9850915411926642,
           0.9970151723011591
          ],
          [
           -0.12965911008967954,
           0.9700323473163358,
           0.9806735901509408,
           0.9828017298823287,
           0.9513350980292915,
           0.9721931020145657,
           0.32967327112981293,
           0.9804744277218976,
           1,
           0.9566844778210026,
           0.9805256288963053
          ],
          [
           -0.3671212216172104,
           0.9255424452388338,
           0.9081752037702713,
           0.9720208005820918,
           0.9051442060281165,
           0.9787404482301574,
           0.2044656012950421,
           0.9850915411926642,
           0.9566844778210026,
           1,
           0.979150244560212
          ],
          [
           -0.25324878498851644,
           0.9520044115723332,
           0.9528050152651852,
           0.9931061856380135,
           0.9179456587171007,
           0.9670492584876398,
           0.17766916825389473,
           0.9970151723011591,
           0.9805256288963053,
           0.979150244560212,
           1
          ]
         ]
        },
        {
         "marker": {
          "color": "crimson"
         },
         "text": [
          26,
          27,
          28,
          28,
          31,
          33,
          60,
          63,
          66,
          71,
          74
         ],
         "textposition": "auto",
         "type": "bar",
         "x": [
          "Communication Services",
          "Energy",
          "Materials",
          "Utilities",
          "Real Estate",
          "Consumer Staples",
          "Health Care",
          "Consumer Discretionary",
          "Financials",
          "Information Technology",
          "Industrials"
         ],
         "xaxis": "x2",
         "y": [
          26,
          27,
          28,
          28,
          31,
          33,
          60,
          63,
          66,
          71,
          74
         ],
         "yaxis": "y2"
        }
       ],
       "layout": {
        "annotations": [
         {
          "font": {
           "size": 16
          },
          "showarrow": false,
          "text": "Sector Performance",
          "x": 0.5,
          "xanchor": "center",
          "xref": "paper",
          "y": 1,
          "yanchor": "bottom",
          "yref": "paper"
         },
         {
          "font": {
           "size": 16
          },
          "showarrow": false,
          "text": "No. of Stocks in S&P 500",
          "x": 0.2571428571428572,
          "xanchor": "center",
          "xref": "paper",
          "y": 0.30000000000000004,
          "yanchor": "bottom",
          "yref": "paper"
         },
         {
          "font": {
           "size": 16
          },
          "showarrow": false,
          "text": "Correlation Analysis",
          "x": 0.8071428571428572,
          "xanchor": "center",
          "xref": "paper",
          "y": 0.30000000000000004,
          "yanchor": "bottom",
          "yref": "paper"
         }
        ],
        "height": 1200,
        "template": {
         "data": {
          "bar": [
           {
            "error_x": {
             "color": "#f2f5fa"
            },
            "error_y": {
             "color": "#f2f5fa"
            },
            "marker": {
             "line": {
              "color": "rgb(17,17,17)",
              "width": 0.5
             }
            },
            "type": "bar"
           }
          ],
          "barpolar": [
           {
            "marker": {
             "line": {
              "color": "rgb(17,17,17)",
              "width": 0.5
             }
            },
            "type": "barpolar"
           }
          ],
          "carpet": [
           {
            "aaxis": {
             "endlinecolor": "#A2B1C6",
             "gridcolor": "#506784",
             "linecolor": "#506784",
             "minorgridcolor": "#506784",
             "startlinecolor": "#A2B1C6"
            },
            "baxis": {
             "endlinecolor": "#A2B1C6",
             "gridcolor": "#506784",
             "linecolor": "#506784",
             "minorgridcolor": "#506784",
             "startlinecolor": "#A2B1C6"
            },
            "type": "carpet"
           }
          ],
          "choropleth": [
           {
            "colorbar": {
             "outlinewidth": 0,
             "ticks": ""
            },
            "type": "choropleth"
           }
          ],
          "contour": [
           {
            "colorbar": {
             "outlinewidth": 0,
             "ticks": ""
            },
            "colorscale": [
             [
              0,
              "#0d0887"
             ],
             [
              0.1111111111111111,
              "#46039f"
             ],
             [
              0.2222222222222222,
              "#7201a8"
             ],
             [
              0.3333333333333333,
              "#9c179e"
             ],
             [
              0.4444444444444444,
              "#bd3786"
             ],
             [
              0.5555555555555556,
              "#d8576b"
             ],
             [
              0.6666666666666666,
              "#ed7953"
             ],
             [
              0.7777777777777778,
              "#fb9f3a"
             ],
             [
              0.8888888888888888,
              "#fdca26"
             ],
             [
              1,
              "#f0f921"
             ]
            ],
            "type": "contour"
           }
          ],
          "contourcarpet": [
           {
            "colorbar": {
             "outlinewidth": 0,
             "ticks": ""
            },
            "type": "contourcarpet"
           }
          ],
          "heatmap": [
           {
            "colorbar": {
             "outlinewidth": 0,
             "ticks": ""
            },
            "colorscale": [
             [
              0,
              "#0d0887"
             ],
             [
              0.1111111111111111,
              "#46039f"
             ],
             [
              0.2222222222222222,
              "#7201a8"
             ],
             [
              0.3333333333333333,
              "#9c179e"
             ],
             [
              0.4444444444444444,
              "#bd3786"
             ],
             [
              0.5555555555555556,
              "#d8576b"
             ],
             [
              0.6666666666666666,
              "#ed7953"
             ],
             [
              0.7777777777777778,
              "#fb9f3a"
             ],
             [
              0.8888888888888888,
              "#fdca26"
             ],
             [
              1,
              "#f0f921"
             ]
            ],
            "type": "heatmap"
           }
          ],
          "heatmapgl": [
           {
            "colorbar": {
             "outlinewidth": 0,
             "ticks": ""
            },
            "colorscale": [
             [
              0,
              "#0d0887"
             ],
             [
              0.1111111111111111,
              "#46039f"
             ],
             [
              0.2222222222222222,
              "#7201a8"
             ],
             [
              0.3333333333333333,
              "#9c179e"
             ],
             [
              0.4444444444444444,
              "#bd3786"
             ],
             [
              0.5555555555555556,
              "#d8576b"
             ],
             [
              0.6666666666666666,
              "#ed7953"
             ],
             [
              0.7777777777777778,
              "#fb9f3a"
             ],
             [
              0.8888888888888888,
              "#fdca26"
             ],
             [
              1,
              "#f0f921"
             ]
            ],
            "type": "heatmapgl"
           }
          ],
          "histogram": [
           {
            "marker": {
             "colorbar": {
              "outlinewidth": 0,
              "ticks": ""
             }
            },
            "type": "histogram"
           }
          ],
          "histogram2d": [
           {
            "colorbar": {
             "outlinewidth": 0,
             "ticks": ""
            },
            "colorscale": [
             [
              0,
              "#0d0887"
             ],
             [
              0.1111111111111111,
              "#46039f"
             ],
             [
              0.2222222222222222,
              "#7201a8"
             ],
             [
              0.3333333333333333,
              "#9c179e"
             ],
             [
              0.4444444444444444,
              "#bd3786"
             ],
             [
              0.5555555555555556,
              "#d8576b"
             ],
             [
              0.6666666666666666,
              "#ed7953"
             ],
             [
              0.7777777777777778,
              "#fb9f3a"
             ],
             [
              0.8888888888888888,
              "#fdca26"
             ],
             [
              1,
              "#f0f921"
             ]
            ],
            "type": "histogram2d"
           }
          ],
          "histogram2dcontour": [
           {
            "colorbar": {
             "outlinewidth": 0,
             "ticks": ""
            },
            "colorscale": [
             [
              0,
              "#0d0887"
             ],
             [
              0.1111111111111111,
              "#46039f"
             ],
             [
              0.2222222222222222,
              "#7201a8"
             ],
             [
              0.3333333333333333,
              "#9c179e"
             ],
             [
              0.4444444444444444,
              "#bd3786"
             ],
             [
              0.5555555555555556,
              "#d8576b"
             ],
             [
              0.6666666666666666,
              "#ed7953"
             ],
             [
              0.7777777777777778,
              "#fb9f3a"
             ],
             [
              0.8888888888888888,
              "#fdca26"
             ],
             [
              1,
              "#f0f921"
             ]
            ],
            "type": "histogram2dcontour"
           }
          ],
          "mesh3d": [
           {
            "colorbar": {
             "outlinewidth": 0,
             "ticks": ""
            },
            "type": "mesh3d"
           }
          ],
          "parcoords": [
           {
            "line": {
             "colorbar": {
              "outlinewidth": 0,
              "ticks": ""
             }
            },
            "type": "parcoords"
           }
          ],
          "pie": [
           {
            "automargin": true,
            "type": "pie"
           }
          ],
          "scatter": [
           {
            "marker": {
             "line": {
              "color": "#283442"
             }
            },
            "type": "scatter"
           }
          ],
          "scatter3d": [
           {
            "line": {
             "colorbar": {
              "outlinewidth": 0,
              "ticks": ""
             }
            },
            "marker": {
             "colorbar": {
              "outlinewidth": 0,
              "ticks": ""
             }
            },
            "type": "scatter3d"
           }
          ],
          "scattercarpet": [
           {
            "marker": {
             "colorbar": {
              "outlinewidth": 0,
              "ticks": ""
             }
            },
            "type": "scattercarpet"
           }
          ],
          "scattergeo": [
           {
            "marker": {
             "colorbar": {
              "outlinewidth": 0,
              "ticks": ""
             }
            },
            "type": "scattergeo"
           }
          ],
          "scattergl": [
           {
            "marker": {
             "line": {
              "color": "#283442"
             }
            },
            "type": "scattergl"
           }
          ],
          "scattermapbox": [
           {
            "marker": {
             "colorbar": {
              "outlinewidth": 0,
              "ticks": ""
             }
            },
            "type": "scattermapbox"
           }
          ],
          "scatterpolar": [
           {
            "marker": {
             "colorbar": {
              "outlinewidth": 0,
              "ticks": ""
             }
            },
            "type": "scatterpolar"
           }
          ],
          "scatterpolargl": [
           {
            "marker": {
             "colorbar": {
              "outlinewidth": 0,
              "ticks": ""
             }
            },
            "type": "scatterpolargl"
           }
          ],
          "scatterternary": [
           {
            "marker": {
             "colorbar": {
              "outlinewidth": 0,
              "ticks": ""
             }
            },
            "type": "scatterternary"
           }
          ],
          "surface": [
           {
            "colorbar": {
             "outlinewidth": 0,
             "ticks": ""
            },
            "colorscale": [
             [
              0,
              "#0d0887"
             ],
             [
              0.1111111111111111,
              "#46039f"
             ],
             [
              0.2222222222222222,
              "#7201a8"
             ],
             [
              0.3333333333333333,
              "#9c179e"
             ],
             [
              0.4444444444444444,
              "#bd3786"
             ],
             [
              0.5555555555555556,
              "#d8576b"
             ],
             [
              0.6666666666666666,
              "#ed7953"
             ],
             [
              0.7777777777777778,
              "#fb9f3a"
             ],
             [
              0.8888888888888888,
              "#fdca26"
             ],
             [
              1,
              "#f0f921"
             ]
            ],
            "type": "surface"
           }
          ],
          "table": [
           {
            "cells": {
             "fill": {
              "color": "#506784"
             },
             "line": {
              "color": "rgb(17,17,17)"
             }
            },
            "header": {
             "fill": {
              "color": "#2a3f5f"
             },
             "line": {
              "color": "rgb(17,17,17)"
             }
            },
            "type": "table"
           }
          ]
         },
         "layout": {
          "annotationdefaults": {
           "arrowcolor": "#f2f5fa",
           "arrowhead": 0,
           "arrowwidth": 1
          },
          "coloraxis": {
           "colorbar": {
            "outlinewidth": 0,
            "ticks": ""
           }
          },
          "colorscale": {
           "diverging": [
            [
             0,
             "#8e0152"
            ],
            [
             0.1,
             "#c51b7d"
            ],
            [
             0.2,
             "#de77ae"
            ],
            [
             0.3,
             "#f1b6da"
            ],
            [
             0.4,
             "#fde0ef"
            ],
            [
             0.5,
             "#f7f7f7"
            ],
            [
             0.6,
             "#e6f5d0"
            ],
            [
             0.7,
             "#b8e186"
            ],
            [
             0.8,
             "#7fbc41"
            ],
            [
             0.9,
             "#4d9221"
            ],
            [
             1,
             "#276419"
            ]
           ],
           "sequential": [
            [
             0,
             "#0d0887"
            ],
            [
             0.1111111111111111,
             "#46039f"
            ],
            [
             0.2222222222222222,
             "#7201a8"
            ],
            [
             0.3333333333333333,
             "#9c179e"
            ],
            [
             0.4444444444444444,
             "#bd3786"
            ],
            [
             0.5555555555555556,
             "#d8576b"
            ],
            [
             0.6666666666666666,
             "#ed7953"
            ],
            [
             0.7777777777777778,
             "#fb9f3a"
            ],
            [
             0.8888888888888888,
             "#fdca26"
            ],
            [
             1,
             "#f0f921"
            ]
           ],
           "sequentialminus": [
            [
             0,
             "#0d0887"
            ],
            [
             0.1111111111111111,
             "#46039f"
            ],
            [
             0.2222222222222222,
             "#7201a8"
            ],
            [
             0.3333333333333333,
             "#9c179e"
            ],
            [
             0.4444444444444444,
             "#bd3786"
            ],
            [
             0.5555555555555556,
             "#d8576b"
            ],
            [
             0.6666666666666666,
             "#ed7953"
            ],
            [
             0.7777777777777778,
             "#fb9f3a"
            ],
            [
             0.8888888888888888,
             "#fdca26"
            ],
            [
             1,
             "#f0f921"
            ]
           ]
          },
          "colorway": [
           "#636efa",
           "#EF553B",
           "#00cc96",
           "#ab63fa",
           "#FFA15A",
           "#19d3f3",
           "#FF6692",
           "#B6E880",
           "#FF97FF",
           "#FECB52"
          ],
          "font": {
           "color": "#f2f5fa"
          },
          "geo": {
           "bgcolor": "rgb(17,17,17)",
           "lakecolor": "rgb(17,17,17)",
           "landcolor": "rgb(17,17,17)",
           "showlakes": true,
           "showland": true,
           "subunitcolor": "#506784"
          },
          "hoverlabel": {
           "align": "left"
          },
          "hovermode": "closest",
          "mapbox": {
           "style": "dark"
          },
          "paper_bgcolor": "rgb(17,17,17)",
          "plot_bgcolor": "rgb(17,17,17)",
          "polar": {
           "angularaxis": {
            "gridcolor": "#506784",
            "linecolor": "#506784",
            "ticks": ""
           },
           "bgcolor": "rgb(17,17,17)",
           "radialaxis": {
            "gridcolor": "#506784",
            "linecolor": "#506784",
            "ticks": ""
           }
          },
          "scene": {
           "xaxis": {
            "backgroundcolor": "rgb(17,17,17)",
            "gridcolor": "#506784",
            "gridwidth": 2,
            "linecolor": "#506784",
            "showbackground": true,
            "ticks": "",
            "zerolinecolor": "#C8D4E3"
           },
           "yaxis": {
            "backgroundcolor": "rgb(17,17,17)",
            "gridcolor": "#506784",
            "gridwidth": 2,
            "linecolor": "#506784",
            "showbackground": true,
            "ticks": "",
            "zerolinecolor": "#C8D4E3"
           },
           "zaxis": {
            "backgroundcolor": "rgb(17,17,17)",
            "gridcolor": "#506784",
            "gridwidth": 2,
            "linecolor": "#506784",
            "showbackground": true,
            "ticks": "",
            "zerolinecolor": "#C8D4E3"
           }
          },
          "shapedefaults": {
           "line": {
            "color": "#f2f5fa"
           }
          },
          "sliderdefaults": {
           "bgcolor": "#C8D4E3",
           "bordercolor": "rgb(17,17,17)",
           "borderwidth": 1,
           "tickwidth": 0
          },
          "ternary": {
           "aaxis": {
            "gridcolor": "#506784",
            "linecolor": "#506784",
            "ticks": ""
           },
           "baxis": {
            "gridcolor": "#506784",
            "linecolor": "#506784",
            "ticks": ""
           },
           "bgcolor": "rgb(17,17,17)",
           "caxis": {
            "gridcolor": "#506784",
            "linecolor": "#506784",
            "ticks": ""
           }
          },
          "title": {
           "x": 0.05
          },
          "updatemenudefaults": {
           "bgcolor": "#506784",
           "borderwidth": 0
          },
          "xaxis": {
           "automargin": true,
           "gridcolor": "#283442",
           "linecolor": "#506784",
           "ticks": "",
           "title": {
            "standoff": 15
           },
           "zerolinecolor": "#283442",
           "zerolinewidth": 2
          },
          "yaxis": {
           "automargin": true,
           "gridcolor": "#283442",
           "linecolor": "#506784",
           "ticks": "",
           "title": {
            "standoff": 15
           },
           "zerolinecolor": "#283442",
           "zerolinewidth": 2
          }
         }
        },
        "width": 1600,
        "xaxis": {
         "anchor": "y",
         "autorange": true,
         "domain": [
          0,
          1
         ],
         "range": [
          -0.5,
          10.5
         ],
         "type": "category"
        },
        "xaxis2": {
         "anchor": "y2",
         "autorange": true,
         "domain": [
          0,
          0.5142857142857143
         ],
         "range": [
          -0.5,
          10.5
         ],
         "type": "category"
        },
        "xaxis3": {
         "anchor": "y3",
         "autorange": true,
         "domain": [
          0.6142857142857143,
          1
         ],
         "range": [
          -0.5,
          10.5
         ],
         "type": "category"
        },
        "yaxis": {
         "anchor": "x",
         "autorange": true,
         "domain": [
          0.55,
          1
         ],
         "range": [
          -0.4086333333333334,
          0.2740333333333333
         ],
         "type": "linear"
        },
        "yaxis2": {
         "anchor": "x2",
         "autorange": true,
         "domain": [
          0,
          0.30000000000000004
         ],
         "range": [
          0,
          77.89473684210526
         ],
         "type": "linear"
        },
        "yaxis3": {
         "anchor": "x3",
         "autorange": true,
         "domain": [
          0,
          0.30000000000000004
         ],
         "range": [
          -0.5,
          10.5
         ],
         "type": "category"
        }
       }
      },
      "image/png": "[encoded data removed]",
      "text/html": [
       "<div>\n",
       "        \n",
       "        \n",
       "            <div id=\"4b1e568a-9d0a-46e1-b98f-a008e7d6b8ad\" class=\"plotly-graph-div\" style=\"height:1200px; width:1600px;\"></div>\n",
       "            <script type=\"text/javascript\">\n",
       "                require([\"plotly\"], function(Plotly) {\n",
       "                    window.PLOTLYENV=window.PLOTLYENV || {};\n",
       "                    \n",
       "                if (document.getElementById(\"4b1e568a-9d0a-46e1-b98f-a008e7d6b8ad\")) {\n",
       "                    Plotly.newPlot(\n",
       "                        '4b1e568a-9d0a-46e1-b98f-a008e7d6b8ad',\n",
       "                        [{\"name\": \"5D\", \"type\": \"bar\", \"x\": [\"Energy\", \"Industrials\", \"Materials\", \"Consumer Staples\", \"Financials\", \"Utilities\", \"Real Estate\", \"Consumer Discretionary\", \"Communication Services\", \"Information Technology\", \"Health Care\"], \"xaxis\": \"x\", \"y\": [0.0825, 0.0132, 0.034, 0.0087, 0.0104, 0.0053, 0.0146, 0.0443, 0.0371, 0.0664, 0.0172], \"yaxis\": \"y\"}, {\"name\": \"1M\", \"type\": \"bar\", \"x\": [\"Energy\", \"Industrials\", \"Materials\", \"Consumer Staples\", \"Financials\", \"Utilities\", \"Real Estate\", \"Consumer Discretionary\", \"Communication Services\", \"Information Technology\", \"Health Care\"], \"xaxis\": \"x\", \"y\": [0.19870000000000002, 0.0492, 0.11900000000000001, 0.0194, 0.0454, 0.0176, 0.059000000000000004, 0.1592, 0.1276, 0.14150000000000001, 0.0966], \"yaxis\": \"y\"}, {\"name\": \"3M\", \"type\": \"bar\", \"x\": [\"Energy\", \"Industrials\", \"Materials\", \"Consumer Staples\", \"Financials\", \"Utilities\", \"Real Estate\", \"Consumer Discretionary\", \"Communication Services\", \"Information Technology\", \"Health Care\"], \"xaxis\": \"x\", \"y\": [-0.2785, -0.244, -0.1244, -0.0975, -0.2788, -0.1805, -0.1656, -0.0629, -0.0776, -0.04769999999999999, -0.0349], \"yaxis\": \"y\"}, {\"name\": \"YTD\", \"type\": \"bar\", \"x\": [\"Energy\", \"Industrials\", \"Materials\", \"Consumer Staples\", \"Financials\", \"Utilities\", \"Real Estate\", \"Consumer Discretionary\", \"Communication Services\", \"Information Technology\", \"Health Care\"], \"xaxis\": \"x\", \"y\": [-0.3543, -0.22460000000000002, -0.1439, -0.0794, -0.2773, -0.1317, -0.1396, -0.0347, -0.0408, 0.0337, -0.0259], \"yaxis\": \"y\"}, {\"name\": \"1Y\", \"type\": \"bar\", \"x\": [\"Energy\", \"Industrials\", \"Materials\", \"Consumer Staples\", \"Financials\", \"Utilities\", \"Real Estate\", \"Consumer Discretionary\", \"Communication Services\", \"Information Technology\", \"Health Care\"], \"xaxis\": \"x\", \"y\": [-0.37450000000000006, -0.16760000000000003, -0.0384, 0.0206, -0.187, -0.0264, -0.0603, 0.0189, 0.056799999999999996, 0.23989999999999997, 0.1252], \"yaxis\": \"y\"}, {\"colorscale\": [[0.0, \"rgb(150,0,90)\"], [0.125, \"rgb(0,0,200)\"], [0.25, \"rgb(0,25,255)\"], [0.375, \"rgb(0,152,255)\"], [0.5, \"rgb(44,255,150)\"], [0.625, \"rgb(151,255,0)\"], [0.75, \"rgb(255,234,0)\"], [0.875, \"rgb(255,111,0)\"], [1.0, \"rgb(255,0,0)\"]], \"name\": \"\", \"showscale\": false, \"type\": \"heatmap\", \"x\": [\"Energy\", \"Industrials\", \"Materials\", \"Consumer Staples\", \"Financials\", \"Utilities\", \"Real Estate\", \"Consumer Discretionary\", \"Communication Services\", \"Information Technology\", \"Health Care\"], \"xaxis\": \"x3\", \"y\": [\"Energy\", \"Industrials\", \"Materials\", \"Consumer Staples\", \"Financials\", \"Utilities\", \"Real Estate\", \"Consumer Discretionary\", \"Communication Services\", \"Information Technology\", \"Health Care\"], \"yaxis\": \"y3\", \"z\": [[1.0, 0.0005819815770143535, 0.03730499461335648, -0.18695197791171433, 0.0412678559590494, -0.20478623914364694, 0.42628275935973536, -0.2392270142976941, -0.12965911008967954, -0.3671212216172104, -0.25324878498851644], [0.0005819815770143535, 1.0, 0.9900615744584896, 0.9766702744032921, 0.9919148493898946, 0.97294254113687, 0.3642105251708323, 0.9626900865560177, 0.9700323473163358, 0.9255424452388338, 0.9520044115723332], [0.03730499461335648, 0.9900615744584896, 1.0, 0.9711550157898955, 0.9758795677400738, 0.9524407576238657, 0.3600899822039338, 0.9565125121261611, 0.9806735901509408, 0.9081752037702713, 0.9528050152651852], [-0.18695197791171433, 0.9766702744032921, 0.9711550157898955, 1.0, 0.9502818112182099, 0.9807676012853148, 0.22132303684231414, 0.9942869657458987, 0.9828017298823287, 0.9720208005820918, 0.9931061856380135], [0.0412678559590494, 0.9919148493898946, 0.9758795677400738, 0.9502818112182099, 1.0, 0.9687087450939762, 0.46287019166494714, 0.9341845608295226, 0.9513350980292915, 0.9051442060281165, 0.9179456587171007], [-0.20478623914364694, 0.97294254113687, 0.9524407576238657, 0.9807676012853148, 0.9687087450939762, 1.0, 0.3480844063689122, 0.9776058808962044, 0.9721931020145657, 0.9787404482301574, 0.9670492584876398], [0.42628275935973536, 0.3642105251708323, 0.3600899822039338, 0.22132303684231414, 0.46287019166494714, 0.3480844063689122, 1.0, 0.19907394613148377, 0.32967327112981293, 0.2044656012950421, 0.17766916825389473], [-0.2392270142976941, 0.9626900865560177, 0.9565125121261611, 0.9942869657458987, 0.9341845608295226, 0.9776058808962044, 0.19907394613148377, 1.0, 0.9804744277218976, 0.9850915411926642, 0.9970151723011591], [-0.12965911008967954, 0.9700323473163358, 0.9806735901509408, 0.9828017298823287, 0.9513350980292915, 0.9721931020145657, 0.32967327112981293, 0.9804744277218976, 1.0, 0.9566844778210026, 0.9805256288963053], [-0.3671212216172104, 0.9255424452388338, 0.9081752037702713, 0.9720208005820918, 0.9051442060281165, 0.9787404482301574, 0.2044656012950421, 0.9850915411926642, 0.9566844778210026, 1.0, 0.979150244560212], [-0.25324878498851644, 0.9520044115723332, 0.9528050152651852, 0.9931061856380135, 0.9179456587171007, 0.9670492584876398, 0.17766916825389473, 0.9970151723011591, 0.9805256288963053, 0.979150244560212, 1.0]]}, {\"marker\": {\"color\": \"crimson\"}, \"text\": [26.0, 27.0, 28.0, 28.0, 31.0, 33.0, 60.0, 63.0, 66.0, 71.0, 74.0], \"textposition\": \"auto\", \"type\": \"bar\", \"x\": [\"Communication Services\", \"Energy\", \"Materials\", \"Utilities\", \"Real Estate\", \"Consumer Staples\", \"Health Care\", \"Consumer Discretionary\", \"Financials\", \"Information Technology\", \"Industrials\"], \"xaxis\": \"x2\", \"y\": [26, 27, 28, 28, 31, 33, 60, 63, 66, 71, 74], \"yaxis\": \"y2\"}],\n",
       "                        {\"annotations\": [{\"font\": {\"size\": 16}, \"showarrow\": false, \"text\": \"Sector Performance\", \"x\": 0.5, \"xanchor\": \"center\", \"xref\": \"paper\", \"y\": 1.0, \"yanchor\": \"bottom\", \"yref\": \"paper\"}, {\"font\": {\"size\": 16}, \"showarrow\": false, \"text\": \"No. of Stocks in S&P 500\", \"x\": 0.2571428571428572, \"xanchor\": \"center\", \"xref\": \"paper\", \"y\": 0.30000000000000004, \"yanchor\": \"bottom\", \"yref\": \"paper\"}, {\"font\": {\"size\": 16}, \"showarrow\": false, \"text\": \"Correlation Analysis\", \"x\": 0.8071428571428572, \"xanchor\": \"center\", \"xref\": \"paper\", \"y\": 0.30000000000000004, \"yanchor\": \"bottom\", \"yref\": \"paper\"}], \"height\": 1200, \"template\": {\"data\": {\"bar\": [{\"error_x\": {\"color\": \"#f2f5fa\"}, \"error_y\": {\"color\": \"#f2f5fa\"}, \"marker\": {\"line\": {\"color\": \"rgb(17,17,17)\", \"width\": 0.5}}, \"type\": \"bar\"}], \"barpolar\": [{\"marker\": {\"line\": {\"color\": \"rgb(17,17,17)\", \"width\": 0.5}}, \"type\": \"barpolar\"}], \"carpet\": [{\"aaxis\": {\"endlinecolor\": \"#A2B1C6\", \"gridcolor\": \"#506784\", \"linecolor\": \"#506784\", \"minorgridcolor\": \"#506784\", \"startlinecolor\": \"#A2B1C6\"}, \"baxis\": {\"endlinecolor\": \"#A2B1C6\", \"gridcolor\": \"#506784\", \"linecolor\": \"#506784\", \"minorgridcolor\": \"#506784\", \"startlinecolor\": \"#A2B1C6\"}, \"type\": \"carpet\"}], \"choropleth\": [{\"colorbar\": {\"outlinewidth\": 0, \"ticks\": \"\"}, \"type\": \"choropleth\"}], \"contour\": [{\"colorbar\": {\"outlinewidth\": 0, \"ticks\": \"\"}, \"colorscale\": [[0.0, \"#0d0887\"], [0.1111111111111111, \"#46039f\"], [0.2222222222222222, \"#7201a8\"], [0.3333333333333333, \"#9c179e\"], [0.4444444444444444, \"#bd3786\"], [0.5555555555555556, \"#d8576b\"], [0.6666666666666666, \"#ed7953\"], [0.7777777777777778, \"#fb9f3a\"], [0.8888888888888888, \"#fdca26\"], [1.0, \"#f0f921\"]], \"type\": \"contour\"}], \"contourcarpet\": [{\"colorbar\": {\"outlinewidth\": 0, \"ticks\": \"\"}, \"type\": \"contourcarpet\"}], \"heatmap\": [{\"colorbar\": {\"outlinewidth\": 0, \"ticks\": \"\"}, \"colorscale\": [[0.0, \"#0d0887\"], [0.1111111111111111, \"#46039f\"], [0.2222222222222222, \"#7201a8\"], [0.3333333333333333, \"#9c179e\"], [0.4444444444444444, \"#bd3786\"], [0.5555555555555556, \"#d8576b\"], [0.6666666666666666, \"#ed7953\"], [0.7777777777777778, \"#fb9f3a\"], [0.8888888888888888, \"#fdca26\"], [1.0, \"#f0f921\"]], \"type\": \"heatmap\"}], \"heatmapgl\": [{\"colorbar\": {\"outlinewidth\": 0, \"ticks\": \"\"}, \"colorscale\": [[0.0, \"#0d0887\"], [0.1111111111111111, \"#46039f\"], [0.2222222222222222, \"#7201a8\"], [0.3333333333333333, \"#9c179e\"], [0.4444444444444444, \"#bd3786\"], [0.5555555555555556, \"#d8576b\"], [0.6666666666666666, \"#ed7953\"], [0.7777777777777778, \"#fb9f3a\"], [0.8888888888888888, \"#fdca26\"], [1.0, \"#f0f921\"]], \"type\": \"heatmapgl\"}], \"histogram\": [{\"marker\": {\"colorbar\": {\"outlinewidth\": 0, \"ticks\": \"\"}}, \"type\": \"histogram\"}], \"histogram2d\": [{\"colorbar\": {\"outlinewidth\": 0, \"ticks\": \"\"}, \"colorscale\": [[0.0, \"#0d0887\"], [0.1111111111111111, \"#46039f\"], [0.2222222222222222, \"#7201a8\"], [0.3333333333333333, \"#9c179e\"], [0.4444444444444444, \"#bd3786\"], [0.5555555555555556, \"#d8576b\"], [0.6666666666666666, \"#ed7953\"], [0.7777777777777778, \"#fb9f3a\"], [0.8888888888888888, \"#fdca26\"], [1.0, \"#f0f921\"]], \"type\": \"histogram2d\"}], \"histogram2dcontour\": [{\"colorbar\": {\"outlinewidth\": 0, \"ticks\": \"\"}, \"colorscale\": [[0.0, \"#0d0887\"], [0.1111111111111111, \"#46039f\"], [0.2222222222222222, \"#7201a8\"], [0.3333333333333333, \"#9c179e\"], [0.4444444444444444, \"#bd3786\"], [0.5555555555555556, \"#d8576b\"], [0.6666666666666666, \"#ed7953\"], [0.7777777777777778, \"#fb9f3a\"], [0.8888888888888888, \"#fdca26\"], [1.0, \"#f0f921\"]], \"type\": \"histogram2dcontour\"}], \"mesh3d\": [{\"colorbar\": {\"outlinewidth\": 0, \"ticks\": \"\"}, \"type\": \"mesh3d\"}], \"parcoords\": [{\"line\": {\"colorbar\": {\"outlinewidth\": 0, \"ticks\": \"\"}}, \"type\": \"parcoords\"}], \"pie\": [{\"automargin\": true, \"type\": \"pie\"}], \"scatter\": [{\"marker\": {\"line\": {\"color\": \"#283442\"}}, \"type\": \"scatter\"}], \"scatter3d\": [{\"line\": {\"colorbar\": {\"outlinewidth\": 0, \"ticks\": \"\"}}, \"marker\": {\"colorbar\": {\"outlinewidth\": 0, \"ticks\": \"\"}}, \"type\": \"scatter3d\"}], \"scattercarpet\": [{\"marker\": {\"colorbar\": {\"outlinewidth\": 0, \"ticks\": \"\"}}, \"type\": \"scattercarpet\"}], \"scattergeo\": [{\"marker\": {\"colorbar\": {\"outlinewidth\": 0, \"ticks\": \"\"}}, \"type\": \"scattergeo\"}], \"scattergl\": [{\"marker\": {\"line\": {\"color\": \"#283442\"}}, \"type\": \"scattergl\"}], \"scattermapbox\": [{\"marker\": {\"colorbar\": {\"outlinewidth\": 0, \"ticks\": \"\"}}, \"type\": \"scattermapbox\"}], \"scatterpolar\": [{\"marker\": {\"colorbar\": {\"outlinewidth\": 0, \"ticks\": \"\"}}, \"type\": \"scatterpolar\"}], \"scatterpolargl\": [{\"marker\": {\"colorbar\": {\"outlinewidth\": 0, \"ticks\": \"\"}}, \"type\": \"scatterpolargl\"}], \"scatterternary\": [{\"marker\": {\"colorbar\": {\"outlinewidth\": 0, \"ticks\": \"\"}}, \"type\": \"scatterternary\"}], \"surface\": [{\"colorbar\": {\"outlinewidth\": 0, \"ticks\": \"\"}, \"colorscale\": [[0.0, \"#0d0887\"], [0.1111111111111111, \"#46039f\"], [0.2222222222222222, \"#7201a8\"], [0.3333333333333333, \"#9c179e\"], [0.4444444444444444, \"#bd3786\"], [0.5555555555555556, \"#d8576b\"], [0.6666666666666666, \"#ed7953\"], [0.7777777777777778, \"#fb9f3a\"], [0.8888888888888888, \"#fdca26\"], [1.0, \"#f0f921\"]], \"type\": \"surface\"}], \"table\": [{\"cells\": {\"fill\": {\"color\": \"#506784\"}, \"line\": {\"color\": \"rgb(17,17,17)\"}}, \"header\": {\"fill\": {\"color\": \"#2a3f5f\"}, \"line\": {\"color\": \"rgb(17,17,17)\"}}, \"type\": \"table\"}]}, \"layout\": {\"annotationdefaults\": {\"arrowcolor\": \"#f2f5fa\", \"arrowhead\": 0, \"arrowwidth\": 1}, \"coloraxis\": {\"colorbar\": {\"outlinewidth\": 0, \"ticks\": \"\"}}, \"colorscale\": {\"diverging\": [[0, \"#8e0152\"], [0.1, \"#c51b7d\"], [0.2, \"#de77ae\"], [0.3, \"#f1b6da\"], [0.4, \"#fde0ef\"], [0.5, \"#f7f7f7\"], [0.6, \"#e6f5d0\"], [0.7, \"#b8e186\"], [0.8, \"#7fbc41\"], [0.9, \"#4d9221\"], [1, \"#276419\"]], \"sequential\": [[0.0, \"#0d0887\"], [0.1111111111111111, \"#46039f\"], [0.2222222222222222, \"#7201a8\"], [0.3333333333333333, \"#9c179e\"], [0.4444444444444444, \"#bd3786\"], [0.5555555555555556, \"#d8576b\"], [0.6666666666666666, \"#ed7953\"], [0.7777777777777778, \"#fb9f3a\"], [0.8888888888888888, \"#fdca26\"], [1.0, \"#f0f921\"]], \"sequentialminus\": [[0.0, \"#0d0887\"], [0.1111111111111111, \"#46039f\"], [0.2222222222222222, \"#7201a8\"], [0.3333333333333333, \"#9c179e\"], [0.4444444444444444, \"#bd3786\"], [0.5555555555555556, \"#d8576b\"], [0.6666666666666666, \"#ed7953\"], [0.7777777777777778, \"#fb9f3a\"], [0.8888888888888888, \"#fdca26\"], [1.0, \"#f0f921\"]]}, \"colorway\": [\"#636efa\", \"#EF553B\", \"#00cc96\", \"#ab63fa\", \"#FFA15A\", \"#19d3f3\", \"#FF6692\", \"#B6E880\", \"#FF97FF\", \"#FECB52\"], \"font\": {\"color\": \"#f2f5fa\"}, \"geo\": {\"bgcolor\": \"rgb(17,17,17)\", \"lakecolor\": \"rgb(17,17,17)\", \"landcolor\": \"rgb(17,17,17)\", \"showlakes\": true, \"showland\": true, \"subunitcolor\": \"#506784\"}, \"hoverlabel\": {\"align\": \"left\"}, \"hovermode\": \"closest\", \"mapbox\": {\"style\": \"dark\"}, \"paper_bgcolor\": \"rgb(17,17,17)\", \"plot_bgcolor\": \"rgb(17,17,17)\", \"polar\": {\"angularaxis\": {\"gridcolor\": \"#506784\", \"linecolor\": \"#506784\", \"ticks\": \"\"}, \"bgcolor\": \"rgb(17,17,17)\", \"radialaxis\": {\"gridcolor\": \"#506784\", \"linecolor\": \"#506784\", \"ticks\": \"\"}}, \"scene\": {\"xaxis\": {\"backgroundcolor\": \"rgb(17,17,17)\", \"gridcolor\": \"#506784\", \"gridwidth\": 2, \"linecolor\": \"#506784\", \"showbackground\": true, \"ticks\": \"\", \"zerolinecolor\": \"#C8D4E3\"}, \"yaxis\": {\"backgroundcolor\": \"rgb(17,17,17)\", \"gridcolor\": \"#506784\", \"gridwidth\": 2, \"linecolor\": \"#506784\", \"showbackground\": true, \"ticks\": \"\", \"zerolinecolor\": \"#C8D4E3\"}, \"zaxis\": {\"backgroundcolor\": \"rgb(17,17,17)\", \"gridcolor\": \"#506784\", \"gridwidth\": 2, \"linecolor\": \"#506784\", \"showbackground\": true, \"ticks\": \"\", \"zerolinecolor\": \"#C8D4E3\"}}, \"shapedefaults\": {\"line\": {\"color\": \"#f2f5fa\"}}, \"sliderdefaults\": {\"bgcolor\": \"#C8D4E3\", \"bordercolor\": \"rgb(17,17,17)\", \"borderwidth\": 1, \"tickwidth\": 0}, \"ternary\": {\"aaxis\": {\"gridcolor\": \"#506784\", \"linecolor\": \"#506784\", \"ticks\": \"\"}, \"baxis\": {\"gridcolor\": \"#506784\", \"linecolor\": \"#506784\", \"ticks\": \"\"}, \"bgcolor\": \"rgb(17,17,17)\", \"caxis\": {\"gridcolor\": \"#506784\", \"linecolor\": \"#506784\", \"ticks\": \"\"}}, \"title\": {\"x\": 0.05}, \"updatemenudefaults\": {\"bgcolor\": \"#506784\", \"borderwidth\": 0}, \"xaxis\": {\"automargin\": true, \"gridcolor\": \"#283442\", \"linecolor\": \"#506784\", \"ticks\": \"\", \"title\": {\"standoff\": 15}, \"zerolinecolor\": \"#283442\", \"zerolinewidth\": 2}, \"yaxis\": {\"automargin\": true, \"gridcolor\": \"#283442\", \"linecolor\": \"#506784\", \"ticks\": \"\", \"title\": {\"standoff\": 15}, \"zerolinecolor\": \"#283442\", \"zerolinewidth\": 2}}}, \"width\": 1600, \"xaxis\": {\"anchor\": \"y\", \"domain\": [0.0, 1.0]}, \"xaxis2\": {\"anchor\": \"y2\", \"domain\": [0.0, 0.5142857142857143]}, \"xaxis3\": {\"anchor\": \"y3\", \"domain\": [0.6142857142857143, 1.0]}, \"yaxis\": {\"anchor\": \"x\", \"domain\": [0.55, 1.0]}, \"yaxis2\": {\"anchor\": \"x2\", \"domain\": [0.0, 0.30000000000000004]}, \"yaxis3\": {\"anchor\": \"x3\", \"domain\": [0.0, 0.30000000000000004]}},\n",
       "                        {\"responsive\": true}\n",
       "                    ).then(function(){\n",
       "                            \n",
       "var gd = document.getElementById('4b1e568a-9d0a-46e1-b98f-a008e7d6b8ad');\n",
       "var x = new MutationObserver(function (mutations, observer) {{\n",
       "        var display = window.getComputedStyle(gd).display;\n",
       "        if (!display || display === 'none') {{\n",
       "            console.log([gd, 'removed!']);\n",
       "            Plotly.purge(gd);\n",
       "            observer.disconnect();\n",
       "        }}\n",
       "}});\n",
       "\n",
       "// Listen for the removal of the full notebook cells\n",
       "var notebookContainer = gd.closest('#notebook-container');\n",
       "if (notebookContainer) {{\n",
       "    x.observe(notebookContainer, {childList: true});\n",
       "}}\n",
       "\n",
       "// Listen for the clearing of the current output cell\n",
       "var outputEl = gd.closest('.output');\n",
       "if (outputEl) {{\n",
       "    x.observe(outputEl, {childList: true});\n",
       "}}\n",
       "\n",
       "                        })\n",
       "                };\n",
       "                });\n",
       "            </script>\n",
       "        </div>"
      ]
     },
     "metadata": {},
     "output_type": "display_data"
    }
   ],
   "source": [
    "def get_sector_Performance_figure():\n",
    "    global sector_bar\n",
    "    fig = make_subplots(\n",
    "        rows=2, cols=2,\n",
    "        column_widths=[0.4,0.3],\n",
    "        row_heights=[0.6, 0.4],\n",
    "        specs=[[{\"colspan\": 2}, None], [{}, {}]],\n",
    "        subplot_titles=(\"Sector Performance\",\"No. of Stocks in S&P 500\", \"Correlation Analysis\"))\n",
    "\n",
    "    for bar in sector_bar:\n",
    "        fig.add_trace(bar, row=1, col=1)\n",
    "\n",
    "    fig.add_trace(corr_df_heatmap, row=2, col=2)\n",
    "\n",
    "    fig.add_trace(sector_count_bar, row=2, col=1)\n",
    "\n",
    "    fig.update_layout(\n",
    "        template=\"plotly_dark\",\n",
    "        height=1200, width=1600,\n",
    "        #showlegend=False\n",
    "    )\n",
    "\n",
    "    #fig.update_layout( title_text=\"specs examples\")\n",
    "    return fig\n",
    "\n",
    "get_sector_Performance_figure().show()"
   ]
  },
  {
   "cell_type": "code",
   "execution_count": 43,
   "metadata": {},
   "outputs": [],
   "source": [
    "sector_list = sp.Sector.dropna().unique().tolist()"
   ]
  },
  {
   "cell_type": "code",
   "execution_count": 51,
   "metadata": {},
   "outputs": [],
   "source": [
    "def get_stock_figure(value):\n",
    "    \n",
    "    fig = go.Figure() \n",
    "    data = sp.groupby(['Sector']).get_group(value)\n",
    "    \n",
    "    trace_bar = go.Bar(x=data.index, y=data['Beta'], name='Stocks')\n",
    "\n",
    "    trace_line = go.Line(x=[data.index[0], data.index[-1]], y=[1,1], name='S&P 500')\n",
    "    \n",
    "    fig.add_traces(data=[trace_bar, trace_line])\n",
    "\n",
    "    fig.layout.template='plotly_dark'\n",
    "    \n",
    "    return fig\n"
   ]
  },
  {
   "cell_type": "code",
   "execution_count": 118,
   "metadata": {},
   "outputs": [
    {
     "data": {
      "text/html": [
       "<div>\n",
       "  <iframe src=\"/app/endpoints/8d8d71d29c7a41dc9111c56039611ba3/\" width=800 height=600 frameborder=\"0\"></iframe>\n",
       "  <hr/><a href=\"/app/endpoints/8d8d71d29c7a41dc9111c56039611ba3/\" target=\"_new\">Open in new window</a> for /app/endpoints/8d8d71d29c7a41dc9111c56039611ba3/\n",
       "</div>"
      ],
      "text/plain": [
       "<jupyter_plotly_dash.dash_wrapper.JupyterDash at 0x7fc990940250>"
      ]
     },
     "execution_count": 118,
     "metadata": {},
     "output_type": "execute_result"
    }
   ],
   "source": [
    "from jupyter_plotly_dash import JupyterDash\n",
    "\n",
    "import dash\n",
    "import dash_html_components as html\n",
    "import dash_core_components as dcc\n",
    "\n",
    "app = JupyterDash('SimpleExample')\n",
    "\n",
    "\n",
    "\n",
    "#app = dash.Dash(__name__, )\n",
    "app.layout = html.Div([\n",
    "    html.H2('Sector Analysis'),\n",
    "    html.Div([\n",
    "        dcc.Dropdown(\n",
    "        id='sector-dropdown',\n",
    "        options=[{'label': i,'value': i} for i in sector_list],\n",
    "        value='Health Care')], \n",
    "        style={'width': '45%',\n",
    "               'display': 'inline-block'}),\n",
    "    html.Div(id='sector-analysis-container'),\n",
    "\n",
    "])\n",
    "\n",
    "\n",
    "\n",
    "@app.callback(\n",
    "    dash.dependencies.Output('sector-analysis-container', 'children'),\n",
    "    [dash.dependencies.Input('sector-dropdown', 'value')])\n",
    "def update_output(value):\n",
    "    \n",
    "    return [dcc.Graph(figure=get_stock_figure(value))]\n",
    "\n",
    "\n",
    "app"
   ]
  },
  {
   "cell_type": "code",
   "execution_count": 166,
   "metadata": {},
   "outputs": [],
   "source": [
    "end = datetime.datetime.now()\n",
    "start = datetime.datetime(end.year - 5, end.month , end.day)\n",
    "master_df = None\n",
    "\n",
    "ticker_list = sp.index.to_list()\n",
    "\n",
    "\n",
    "button = list([\n",
    "            dict(count=1, label=\"1m\", step=\"month\", stepmode=\"backward\"),\n",
    "            dict(count=6, label=\"6m\", step=\"month\", stepmode=\"backward\"),\n",
    "            dict(count=1, label=\"YTD\", step=\"year\", stepmode=\"todate\"),\n",
    "            dict(count=1, label=\"1y\", step=\"year\", stepmode=\"backward\"),\n",
    "            dict(step=\"all\")\n",
    "        ])"
   ]
  },
  {
   "cell_type": "code",
   "execution_count": 161,
   "metadata": {},
   "outputs": [],
   "source": [
    "def get_stock_data(ticker):\n",
    "    #return ((1 + web.DataReader(ticker, 'yahoo', start, end)['Close'].pct_change().dropna().sort_index()).cumprod()-1).reset_index().rename({'Close':ticker},axis=1)\n",
    "    return web.DataReader(ticker, 'yahoo', start, end)['Close'].reset_index().rename({'Close':ticker},axis=1)\n",
    "\n",
    "def get_master_df(ticker):\n",
    "    global master_df\n",
    "    if master_df is None:\n",
    "        master_df = get_stock_data(ticker)\n",
    "        #master_df.set_index('Date', inplace=True)\n",
    "    else:\n",
    "        if ticker not in master_df:\n",
    "            df = get_stock_data(ticker)\n",
    "            master_df = pd.merge(master_df, df, on='Date')\n",
    "    return master_df\n"
   ]
  },
  {
   "cell_type": "code",
   "execution_count": 188,
   "metadata": {},
   "outputs": [],
   "source": [
    "def get_time_series_figure(value):\n",
    "    global master_df, button\n",
    "    plot = []\n",
    "    if value==None or len(value)==0:\n",
    "        return go.Figure(layout={'template':'plotly'})\n",
    "    \n",
    "    for ticker in value:\n",
    "        master_df = get_master_df(ticker)\n",
    "        plot.append(go.Scatter(x=master_df['Date'], y=master_df[ticker], name=ticker))\n",
    "                    \n",
    "    fig = go.Figure(plot) \n",
    "    fig.update_xaxes(rangeslider=dict(visible=True, bgcolor='white'),rangeselector=dict(buttons=button, bgcolor='blue'))\n",
    "    fig.layout(xaxis_title=\"Date\", yaxis_title=\"Price\", template='plotly_dark')\n",
    "    return fig\n"
   ]
  },
  {
   "cell_type": "code",
   "execution_count": null,
   "metadata": {},
   "outputs": [],
   "source": [
    "go.Figure(layout={'template':'plotly_dark'})"
   ]
  },
  {
   "cell_type": "code",
   "execution_count": 189,
   "metadata": {},
   "outputs": [
    {
     "data": {
      "text/html": [
       "<div>\n",
       "  <iframe src=\"/app/endpoints/07abb5d4efc9459aa82b8a0fea8e19bd/\" width=800 height=600 frameborder=\"0\"></iframe>\n",
       "  <hr/><a href=\"/app/endpoints/07abb5d4efc9459aa82b8a0fea8e19bd/\" target=\"_new\">Open in new window</a> for /app/endpoints/07abb5d4efc9459aa82b8a0fea8e19bd/\n",
       "</div>"
      ],
      "text/plain": [
       "<jupyter_plotly_dash.dash_wrapper.JupyterDash at 0x7fc991120e90>"
      ]
     },
     "execution_count": 189,
     "metadata": {},
     "output_type": "execute_result"
    }
   ],
   "source": [
    "from jupyter_plotly_dash import JupyterDash\n",
    "\n",
    "import dash\n",
    "import dash_html_components as html\n",
    "import dash_core_components as dcc\n",
    "\n",
    "app = JupyterDash('SimpleExample')\n",
    "\n",
    "\n",
    "\n",
    "#app = dash.Dash(__name__, )\n",
    "app.layout = html.Div([\n",
    "    html.H2('Time Series Analysis'),\n",
    "    html.Div([dcc.Dropdown(\n",
    "        id='stock-dropdown',\n",
    "        options=[{'label': i,'value': i} for i in ticker_list],\n",
    "        multi=True,\n",
    "        style={'color':'black'})],\n",
    "    style={'width': '45%','display': 'inline-block'}),\n",
    "    html.Div(id='close-stock-container'),\n",
    "    html.Div(id='pct-stock-container')\n",
    "])\n",
    "\n",
    "\n",
    "\n",
    "@app.callback(\n",
    "    dash.dependencies.Output('close-stock-container', 'children'),\n",
    "    [dash.dependencies.Input('stock-dropdown', 'value')])\n",
    "def update_output(value):\n",
    "    \n",
    "    return [dcc.Graph(figure=get_time_series_figure(value))]\n",
    "\n",
    "app"
   ]
  },
  {
   "cell_type": "code",
   "execution_count": 183,
   "metadata": {},
   "outputs": [
    {
     "data": {
      "text/html": [
       "<div>\n",
       "  <iframe src=\"/app/endpoints/9721241a7de74bf682e3a512482dcad0/\" width=800 height=600 frameborder=\"0\"></iframe>\n",
       "  <hr/><a href=\"/app/endpoints/9721241a7de74bf682e3a512482dcad0/\" target=\"_new\">Open in new window</a> for /app/endpoints/9721241a7de74bf682e3a512482dcad0/\n",
       "</div>"
      ],
      "text/plain": [
       "<jupyter_plotly_dash.dash_wrapper.JupyterDash at 0x7fc9902e4750>"
      ]
     },
     "execution_count": 183,
     "metadata": {},
     "output_type": "execute_result"
    }
   ],
   "source": [
    "from jupyter_plotly_dash import JupyterDash\n",
    "\n",
    "import dash\n",
    "import dash_html_components as html\n",
    "import dash_core_components as dcc\n",
    "\n",
    "app = JupyterDash('SimpleExample')\n",
    "\n",
    "master_df=None\n",
    "page_style = {'background-color':'black', 'color':'white', 'padding':'15px'}\n",
    "tabs_colors={\n",
    "        \"border\": \"white\",\n",
    "        \"primary\": \"black\",\n",
    "        \"background\": \"black\",\n",
    "        'color':'black'\n",
    "    }\n",
    "\n",
    "sector_performance_div = html.Div([html.H2('Sector Performance Analysis'), dcc.Graph(figure=get_sector_Performance_figure())])\n",
    "\n",
    "sector_div = html.Div([\n",
    "    html.H2('Sector Analysis'),\n",
    "    html.Div([\n",
    "        dcc.Dropdown(\n",
    "        id='sector-dropdown',\n",
    "        options=[{'label': i,'value': i} for i in sector_list],\n",
    "        value='Health Care', style={'color':'black'})], \n",
    "        style={'width': '45%','display': 'inline-block'}),\n",
    "    html.Div(id='sector-analysis-container'),\n",
    "\n",
    "])\n",
    "\n",
    "#app = dash.Dash(__name__, )\n",
    "stock_div = html.Div([\n",
    "    html.H2('Time Series Analysis'),\n",
    "    html.Div([dcc.Dropdown(\n",
    "        id='stock-dropdown',\n",
    "        options=[{'label': i,'value': i} for i in ticker_list],\n",
    "        multi=True,\n",
    "        style={'color':'black'})],\n",
    "    style={'width': '45%','display': 'inline-block'}),\n",
    "    html.Div(id='close-stock-container'),\n",
    "    html.Div(id='pct-stock-container')\n",
    "])\n",
    "\n",
    "\n",
    "app.layout = html.Div([\n",
    "    html.H1('S&P 500'),\n",
    "    dcc.Tabs(\n",
    "        id=\"tabs-with-classes\",\n",
    "        value='tab-1',\n",
    "        parent_className='custom-tabs',\n",
    "        className='custom-tabs-container',\n",
    "        children=[\n",
    "            dcc.Tab(\n",
    "                label='Sector',\n",
    "                value='tab-1',\n",
    "                className='custom-tab',\n",
    "                selected_className='custom-tab--selected',\n",
    "                children=sector_performance_div\n",
    "            ),\n",
    "            dcc.Tab(\n",
    "                label='Stock',\n",
    "                value='tab-2',\n",
    "                className='custom-tab',\n",
    "                selected_className='custom-tab--selected',\n",
    "                children=[sector_div, stock_div]\n",
    "            )\n",
    "        ], style=tabs_colors),\n",
    "    html.Div(id='tabs-content-classes')\n",
    "], style=page_style)\n",
    "\n",
    "\n",
    "@app.callback(\n",
    "    dash.dependencies.Output('sector-analysis-container', 'children'),\n",
    "    [dash.dependencies.Input('sector-dropdown', 'value')])\n",
    "def update_output(value):\n",
    "    \n",
    "    return [dcc.Graph(figure=get_stock_figure(value))]\n",
    "\n",
    "\n",
    "\n",
    "@app.callback(\n",
    "    dash.dependencies.Output('close-stock-container', 'children'),\n",
    "    [dash.dependencies.Input('stock-dropdown', 'value')])\n",
    "def update_output(value):\n",
    "    \n",
    "    return [dcc.Graph(figure=get_time_series_figure(value))]\n",
    "\n",
    "\n",
    "app"
   ]
  },
  {
   "cell_type": "code",
   "execution_count": null,
   "metadata": {},
   "outputs": [],
   "source": []
  }
 ],
 "metadata": {
  "kernelspec": {
   "display_name": "Python 3",
   "language": "python",
   "name": "python3"
  },
  "language_info": {
   "codemirror_mode": {
    "name": "ipython",
    "version": 3
   },
   "file_extension": ".py",
   "mimetype": "text/x-python",
   "name": "python",
   "nbconvert_exporter": "python",
   "pygments_lexer": "ipython3",
   "version": "3.7.7"
  }
 },
 "nbformat": 4,
 "nbformat_minor": 4
}
